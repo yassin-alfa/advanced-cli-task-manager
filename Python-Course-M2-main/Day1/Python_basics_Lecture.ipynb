{
 "cells": [
  {
   "cell_type": "markdown",
   "id": "fe3a68c0-9851-4fbc-bc57-db913a3783d6",
   "metadata": {},
   "source": [
    "## 1- Python Basics\n",
    "\n",
    "------------------------------------------------------------------------\n",
    "\n",
    "#### Introduction to Python Syntax and Semantics\n",
    "\n",
    "-   Python is known for its readability and simplicity.\n",
    "-   Uses indentation (spaces or tabs) to define code blocks, unlike\n",
    "    curly braces in other languages.\n",
    "-   Dynamic typing: no need to declare variable types explicitly.\n"
   ]
  },
  {
   "cell_type": "code",
   "execution_count": null,
   "id": "6704253f",
   "metadata": {},
   "outputs": [],
   "source": [
    "# Example: Indentation and block structure in Python\n",
    "x = 5\n",
    "if x > 3:\n",
    "    print(\"x is greater than 3\")  # Correct indentation\n",
    "# print(\"This will cause an error\")  # Incorrect indentation"
   ]
  },
  {
   "cell_type": "markdown",
   "id": "4f8986c6",
   "metadata": {},
   "source": [
    "#### Variables and Data Types\n",
    "\n",
    "-   Python supports multiple data types: `int`, `float`, `str`, `bool`.\n",
    "-   Variables are created when they are first assigned.\n",
    "-   No need to declare the data type explicitly."
   ]
  },
  {
   "cell_type": "code",
   "execution_count": null,
   "id": "34e9840c",
   "metadata": {},
   "outputs": [],
   "source": [
    "# Examples of different data types in Python\n",
    "name = \"Alice\"    # String\n",
    "age = 25          # Integer\n",
    "height = 5.6      # Float\n",
    "is_student = True # Boolean\n",
    "\n",
    "print(type(name))  # Output: <class 'str'>\n",
    "print(type(age))   # Output: <class 'int'>\n",
    "print(type(height))  # Output: <class 'float'>\n",
    "print(type(is_student))  # Output: <class 'bool'>"
   ]
  },
  {
   "cell_type": "markdown",
   "id": "e0cf38f2",
   "metadata": {},
   "source": [
    "#### Basic Operators\n",
    "\n",
    "-   Arithmetic Operators: `+`, `-`, `*`, `/`, `//` (floor division), `%`\n",
    "    (modulus), `**` (exponentiation)\n",
    "-   Comparison Operators: `==`, `!=`, `>`, `<`, `>=`, `<=`\n",
    "-   Logical Operators: `and`, `or`, `not`"
   ]
  },
  {
   "cell_type": "code",
   "execution_count": null,
   "id": "9e138777",
   "metadata": {},
   "outputs": [],
   "source": [
    "# Arithmetic Operations\n",
    "a = 10\n",
    "b = 3\n",
    "print(a + b)  # Addition: 13\n",
    "print(a - b)  # Subtraction: 7\n",
    "print(a * b)  # Multiplication: 30\n",
    "print(a / b)  # Division: 3.333\n",
    "print(a // b)  # Floor division: 3\n",
    "print(a % b)  # Modulus: 1\n",
    "print(a ** b)  # Exponentiation: 1000\n",
    "\n",
    "# Comparison Operations\n",
    "print(a > b)  # True\n",
    "print(a == b)  # False\n",
    "\n",
    "# Logical Operations\n",
    "x = True\n",
    "y = False\n",
    "print(x and y)  # False\n",
    "print(x or y)   # True"
   ]
  },
  {
   "cell_type": "markdown",
   "id": "4a82cbdd",
   "metadata": {},
   "source": [
    "#### Expressions and Precedence\n",
    "\n",
    "-   Operator precedence defines the order in which operations are\n",
    "    performed.\n",
    "-   Use parentheses to control the order of operations."
   ]
  },
  {
   "cell_type": "code",
   "execution_count": null,
   "id": "8892572d",
   "metadata": {},
   "outputs": [],
   "source": [
    "# Operator precedence\n",
    "result = 10 + 3 * 2  # Multiplication is evaluated first: result = 16\n",
    "print(result)\n",
    "\n",
    "# Using parentheses to change precedence\n",
    "result = (10 + 3) * 2  # Parentheses first: result = 26\n",
    "print(result)"
   ]
  },
  {
   "cell_type": "markdown",
   "id": "2a64f97f",
   "metadata": {},
   "source": [
    "#### Control Structure (if, else, loops):\n",
    "Control structures allow us to **control the flow of execution** in a Python program. They include **conditional statements (`if`, `elif`, `else`)**, **loops (`for`, `while`)**, and **loop control statements (`break`, `continue`, `pass`)**. "
   ]
  },
  {
   "cell_type": "markdown",
   "id": "91cc449f",
   "metadata": {},
   "source": [
    "##### ✅ Conditional Statements (`if`, `elif`, `else`):\n",
    "\n",
    "🔹 **How it works?**  \n",
    "- If the first condition (`age < 18`) is `True`, that block runs.  \n",
    "- If not, the program **checks the `elif` condition**.  \n",
    "- If neither is `True`, the `else` block runs.  "
   ]
  },
  {
   "cell_type": "code",
   "execution_count": null,
   "id": "5812f442",
   "metadata": {},
   "outputs": [],
   "source": [
    "age = 20\n",
    "\n",
    "if age < 18:\n",
    "    print(\"You are a minor.\")\n",
    "elif age >= 18 and age < 60:\n",
    "    print(\"You are an adult.\")\n",
    "else:\n",
    "    print(\"You are a senior citizen.\")\n"
   ]
  },
  {
   "cell_type": "code",
   "execution_count": null,
   "id": "95194c2f",
   "metadata": {},
   "outputs": [],
   "source": [
    "# nested if-else\n",
    "age = 20\n",
    "if age >= 18:\n",
    "    if age < 60:\n",
    "        print(\"You are an adult.\")\n",
    "    else:\n",
    "        print(\"You are a senior citizen.\")"
   ]
  },
  {
   "cell_type": "markdown",
   "id": "0408f2fe",
   "metadata": {},
   "source": [
    "####  `for` Loops (Iterating Over Data Structures):"
   ]
  },
  {
   "cell_type": "code",
   "execution_count": null,
   "id": "ecb0222d",
   "metadata": {},
   "outputs": [],
   "source": [
    "# A `for` loop is used when we want to iterate over a sequence (list, tuple, dictionary, etc.).\n",
    "# Looping Through a List\n",
    "fruits = [\"apple\", \"banana\", \"cherry\"]\n",
    "\n",
    "for fruit in fruits:\n",
    "    print(f\"I like {fruit}\")"
   ]
  },
  {
   "cell_type": "code",
   "execution_count": null,
   "id": "20398a1a",
   "metadata": {},
   "outputs": [],
   "source": [
    "# Looping Over a Range of Numbers\n",
    "for i in range(1, 6):  \n",
    "    print(f\"Iteration {i}\")"
   ]
  },
  {
   "cell_type": "code",
   "execution_count": null,
   "id": "d5e4c940",
   "metadata": {},
   "outputs": [],
   "source": [
    "# Looping Over a String\n",
    "for char in \"hello\":\n",
    "    print(char)"
   ]
  },
  {
   "cell_type": "code",
   "execution_count": null,
   "id": "a0eac4d0",
   "metadata": {},
   "outputs": [],
   "source": [
    "# Looping Over a Dictionary\n",
    "person = {\"name\": \"Alice\", \"age\": 25, \"city\": \"New York\"}\n",
    "\n",
    "for key, value in person.items():\n",
    "    print(f\"{key}: {value}\")\n",
    "    "
   ]
  },
  {
   "cell_type": "markdown",
   "id": "3c61474c",
   "metadata": {},
   "source": [
    "**A `while` loop executes as long as a condition is `True`.**  \n",
    "🔹 **Why use `while`?**  \n",
    "- When **we don’t know how many times** the loop should run.  \n",
    "- For **continuous execution** until a condition is met. "
   ]
  },
  {
   "cell_type": "code",
   "execution_count": null,
   "id": "1ed79249",
   "metadata": {},
   "outputs": [],
   "source": [
    "password = \"\"\n",
    "\n",
    "while password != \"secure123\":\n",
    "    password = input(\"Enter the correct password: \")\n",
    "\n",
    "print(\"Access granted!\")"
   ]
  },
  {
   "cell_type": "markdown",
   "id": "5f164aa4",
   "metadata": {},
   "source": [
    "#### **Loop Control Statements (`break`, `continue`, `pass`)** "
   ]
  },
  {
   "cell_type": "markdown",
   "id": "fa33c01f",
   "metadata": {},
   "source": [
    "**`break` - Exiting a Loop Early**\n",
    "\n",
    "✅ **Use Case**: Stopping an infinite loop, early termination when a condition is met."
   ]
  },
  {
   "cell_type": "code",
   "execution_count": null,
   "id": "41c84e6f",
   "metadata": {},
   "outputs": [],
   "source": [
    "# Stopping a Loop When a Condition is Met**\n",
    "for num in range(1, 10):\n",
    "    if num == 5:\n",
    "        print(\"Stopping the loop at:\", num)\n",
    "        break\n",
    "    print(num)"
   ]
  },
  {
   "cell_type": "markdown",
   "id": "26cc32b4",
   "metadata": {},
   "source": [
    "**`continue` - Skipping an Iteration**\n",
    "\n",
    "✅ **Use Case**: Skipping specific iterations, ignoring errors in data processing."
   ]
  },
  {
   "cell_type": "code",
   "execution_count": null,
   "id": "25df0efb",
   "metadata": {},
   "outputs": [],
   "source": [
    "for num in range(1, 6):\n",
    "    if num % 2 == 0:\n",
    "        continue  # Skip this iteration if the number is even\n",
    "    print(num)"
   ]
  },
  {
   "cell_type": "markdown",
   "id": "b6f8d53b",
   "metadata": {},
   "source": [
    "**`pass` - Placeholder for Future Code**\n",
    "\n",
    "✅ **Use Case**: Avoid syntax errors when writing **empty loops, functions, or classes**."
   ]
  },
  {
   "cell_type": "code",
   "execution_count": null,
   "id": "5c19c243",
   "metadata": {},
   "outputs": [],
   "source": [
    "# Example: Function That Does Nothing Yet\n",
    "def placeholder_function():\n",
    "    pass  # Placeholder for future implementation"
   ]
  },
  {
   "cell_type": "markdown",
   "id": "e96976ee",
   "metadata": {},
   "source": [
    "### **String Formatting in Python**  \n",
    "\n",
    "String formatting is an essential part of Python programming, allowing us to insert variables into strings in a **readable and efficient** way. This section covers different methods of string formatting.\n",
    "\n",
    "✅ Makes output **cleaner** and more **readable**  \n",
    "✅ Avoids manual string concatenation (`+` operator)  \n",
    "✅ Works with different **data types** (integers, floats, lists, etc.)  \n",
    "✅ Useful for **logging, printing messages, and reports**  \n",
    "\n",
    "#### **1️⃣ Using the `+` Operator (Basic but Inefficient)**  \n",
    "✅ **Concatenating Strings Manually** "
   ]
  },
  {
   "cell_type": "code",
   "execution_count": null,
   "id": "a23bcea9",
   "metadata": {},
   "outputs": [],
   "source": [
    "name = \"Alice\"\n",
    "age = 25\n",
    "print(\"Hello, my name is \" + name + \" and I am \" + str(age) + \" years old.\")"
   ]
  },
  {
   "cell_type": "markdown",
   "id": "1a28fb34",
   "metadata": {},
   "source": [
    "#### **2️⃣ Using `format()` Method (Better Alternative)**  \n",
    "✅ **Using `{}` as placeholders** "
   ]
  },
  {
   "cell_type": "code",
   "execution_count": null,
   "id": "14db04d4",
   "metadata": {},
   "outputs": [],
   "source": [
    "name = \"Alice\"\n",
    "age = 25\n",
    "print(\"Hello, my name is {} and I am {} years old.\".format(name, age))"
   ]
  },
  {
   "cell_type": "code",
   "execution_count": null,
   "id": "963ce8af",
   "metadata": {},
   "outputs": [],
   "source": [
    "# Reordering placeholders\n",
    "print(\"Name: {1}, Age: {0}\".format(age, name))"
   ]
  },
  {
   "cell_type": "code",
   "execution_count": null,
   "id": "0b49123b",
   "metadata": {},
   "outputs": [],
   "source": [
    "# Using Named Placeholders\n",
    "print(\"My name is {name} and I am {age} years old.\".format(name=\"Alice\", age=25))"
   ]
  },
  {
   "cell_type": "markdown",
   "id": "997adad5",
   "metadata": {},
   "source": [
    "#### **3️⃣ Using `f-strings` (Best & Recommended in Python 3.6+)**  \n",
    "✅ **Embed variables directly into strings using `{}`**  "
   ]
  },
  {
   "cell_type": "code",
   "execution_count": null,
   "id": "7bb7ff80",
   "metadata": {},
   "outputs": [],
   "source": [
    "name = \"Alice\"\n",
    "age = 25\n",
    "print(f\"Hello, my name is {name} and I am {age} years old.\")"
   ]
  },
  {
   "cell_type": "code",
   "execution_count": null,
   "id": "8375b493",
   "metadata": {},
   "outputs": [],
   "source": [
    "# perform calculations\n",
    "x = 5\n",
    "y = 10\n",
    "print(f\"Sum of {x} and {y} is {x + y}.\")"
   ]
  },
  {
   "cell_type": "code",
   "execution_count": null,
   "id": "775614a8",
   "metadata": {},
   "outputs": [],
   "source": [
    "# format Floating Point Numbers\n",
    "pi = 3.1415926535\n",
    "print(f\"Pi rounded to 2 decimals: {pi:.2f}\")  "
   ]
  },
  {
   "cell_type": "markdown",
   "id": "c098860c",
   "metadata": {},
   "source": [
    "#### Example: Writing Simple Python Scripts"
   ]
  },
  {
   "cell_type": "code",
   "execution_count": null,
   "id": "b48909e6",
   "metadata": {},
   "outputs": [],
   "source": [
    "# Variables and data types\n",
    "name = \"John\"\n",
    "age = 30\n",
    "height = 6.1\n",
    "\n",
    "print(f\"My name is {name}, I am {age} years old, and I am {height} feet tall.\")\n",
    "\n",
    "# Calculating area of a rectangle\n",
    "length = 5\n",
    "width = 3\n",
    "area = length * width\n",
    "print(f\"The area of the rectangle is: {area}\")\n",
    "\n",
    "# Comparing two numbers\n",
    "num1 = 8\n",
    "num2 = 10\n",
    "if num1 > num2:\n",
    "    print(f\"{num1} is greater than {num2}\")\n",
    "elif num1 == num2:\n",
    "    print(f\"{num1} is equal to {num2}\")\n",
    "else:\n",
    "    print(f\"{num1} is smaller than {num2}\")"
   ]
  },
  {
   "cell_type": "markdown",
   "id": "39388e4d",
   "metadata": {},
   "source": [
    "\n",
    "------------------------------------------------------------------------\n",
    "\n",
    "## 2- Functions and Modular Code\n",
    "\n",
    "------------------------------------------------------------------------\n",
    "\n",
    "#### **Introduction to Functions**\n",
    "\n",
    "-   Functions allow for code reusability and modularity.\n",
    "-   Functions are defined using the `def` keyword.\n",
    "-   Functions can take parameters and return values.\n",
    "\n",
    "**Key Points:** - Syntax: `def function_name(parameters):` - Use\n",
    "`return` to get a result from the function."
   ]
  },
  {
   "cell_type": "code",
   "execution_count": null,
   "id": "559b2a04",
   "metadata": {},
   "outputs": [],
   "source": [
    "# Example of a simple function\n",
    "def greet(name):\n",
    "    return f\"Hello, {name}!\"\n",
    "\n",
    "# Calling the function\n",
    "print(greet(\"Alice\"))  # Output: Hello, Alice!"
   ]
  },
  {
   "cell_type": "markdown",
   "id": "905cb374",
   "metadata": {},
   "source": [
    "\n",
    "#### **Parameters and Arguments**\n",
    "\n",
    "-   Functions can take multiple parameters.\n",
    "-   Parameters are placeholders that accept values when the function is\n",
    "    called.\n",
    "-   Default values can be set for parameters.\n"
   ]
  },
  {
   "cell_type": "code",
   "execution_count": null,
   "id": "8f1a6ba9",
   "metadata": {},
   "outputs": [],
   "source": [
    "# Function with multiple parameters\n",
    "def calculate_area(length, width=5):\n",
    "    return length * width\n",
    "\n",
    "# Calling the function with and without default parameter\n",
    "print(calculate_area(10, 3))  # Output: 30\n",
    "print(calculate_area(10))     # Output: 50"
   ]
  },
  {
   "cell_type": "markdown",
   "id": "681a1878",
   "metadata": {},
   "source": [
    "\n",
    "#### **Variable Scope in Functions**\n",
    "\n",
    "-   Variables defined inside a function are local to that function.\n",
    "-   Variables outside the function are global variables and can be\n",
    "    accessed inside unless overwritten.\n",
    "-   `global` keyword to modify global variables inside functions."
   ]
  },
  {
   "cell_type": "code",
   "execution_count": null,
   "id": "fa8488d9",
   "metadata": {},
   "outputs": [],
   "source": [
    "# Example of variable scope\n",
    "x = 10  # Global variable\n",
    "y = 8\n",
    "def update_value():\n",
    "    global x\n",
    "    y = 6\n",
    "    x = 20  # Modifies the global variable\n",
    "    print(f\"Inside function: x = {x}\")\n",
    "    print(f\"Inside function: y = {y}\")\n",
    "\n",
    "update_value()  # Output: Inside function: x = 20\n",
    "print(f\"Outside function: x = {x}\")  # Output: Outside function: x = 20\n",
    "print(f\"Outside function: y = {y}\") "
   ]
  },
  {
   "cell_type": "markdown",
   "id": "4edbe250",
   "metadata": {},
   "source": [
    "✅ **Variable-length Arguments (`*args`, `**kwargs`)**:\n",
    "**When we don’t know how many arguments will be passed.**  \n",
    "\n",
    "✅ **`*args` → Handles multiple positional arguments as a tuple**: "
   ]
  },
  {
   "cell_type": "code",
   "execution_count": null,
   "id": "7cddfc3d",
   "metadata": {},
   "outputs": [],
   "source": [
    "def sum_numbers(*args):\n",
    "    return sum(args)\n",
    "\n",
    "print(sum_numbers(1, 2, 3, 4))  "
   ]
  },
  {
   "cell_type": "markdown",
   "id": "85e1f2be",
   "metadata": {},
   "source": [
    "✅ **`**kwargs` → Handles multiple keyword arguments as a dictionary**:  "
   ]
  },
  {
   "cell_type": "code",
   "execution_count": null,
   "id": "3f3dc9ed",
   "metadata": {},
   "outputs": [],
   "source": [
    "def print_user_details(**kwargs):\n",
    "    for key, value in kwargs.items():\n",
    "        print(f\"{key}: {value}\")\n",
    "\n",
    "print_user_details(name=\"Alice\", age=30, city=\"Paris\")"
   ]
  },
  {
   "cell_type": "markdown",
   "id": "824c5f60",
   "metadata": {},
   "source": [
    "### **Anonymous Functions (`lambda`)**  \n",
    "**Lambda functions** are small **anonymous** functions written in a **single line**.  \n",
    "-   Lambda functions are anonymous, single-line functions.\n",
    "-   Often used for small tasks, passed as arguments to functions.\n",
    "-   Best used for short, simple operations.\n",
    "**Basic Syntax**:\n",
    "```python\n",
    "lambda arguments: expression\n",
    "```"
   ]
  },
  {
   "cell_type": "code",
   "execution_count": null,
   "id": "63ce04d9",
   "metadata": {},
   "outputs": [],
   "source": [
    "# Lambda function for addition\n",
    "add = lambda x, y: x + y\n",
    "print(add(2, 3))  # Output: 5\n",
    "\n",
    "# Using lambda in a list operation\n",
    "numbers = [1, 2, 3, 4, 5]\n",
    "squared_numbers = list(map(lambda x: x ** 2, numbers))\n",
    "print(squared_numbers)  # Output: [1, 4, 9, 16, 25]\n",
    "\n",
    "# Lambda function and list comprehension\n",
    "numbers = [1, 2, 3, 4, 5]\n",
    "squares = [lambda x: x ** 2 for x in numbers]\n",
    "print([square(2) for square in squares])  # Output: [4, 4, 4, 4, 4]"
   ]
  },
  {
   "cell_type": "markdown",
   "id": "8302a696",
   "metadata": {},
   "source": [
    "### **1️⃣ Lambda Functions with `map()`, `filter()`, and `reduce()`**\n",
    "\n",
    "Lambda functions are often used with **higher-order functions** like:\n",
    "- **`map()`**: Applies a function to every element in a list.\n",
    "- **`filter()`**: Filters elements based on a condition.\n",
    "- **`reduce()`**: Performs a cumulative operation on a sequence.\n"
   ]
  },
  {
   "cell_type": "code",
   "execution_count": null,
   "id": "c6922935",
   "metadata": {},
   "outputs": [],
   "source": [
    "# Using `map()` with Lambda\n",
    "# pplying a function to each element of a list\n",
    "numbers = [1, 2, 3, 4, 5]\n",
    "squared_numbers = list(map(lambda x: x ** 2, numbers))\n",
    "print(squared_numbers)  "
   ]
  },
  {
   "cell_type": "code",
   "execution_count": null,
   "id": "6e00ef72",
   "metadata": {},
   "outputs": [],
   "source": [
    "# Using `filter()` with Lambda\n",
    "# Filtering elements from a list\n",
    "numbers = [1, 2, 3, 4, 5]\n",
    "even_numbers = list(filter(lambda x: x % 2 == 0, numbers))\n",
    "print(even_numbers)\n"
   ]
  },
  {
   "cell_type": "code",
   "execution_count": null,
   "id": "dc469b87",
   "metadata": {},
   "outputs": [],
   "source": [
    "# Using `reduce()` with Lambda\n",
    "# Combining elements of a list\n",
    "from functools import reduce\n",
    "numbers = [1, 2, 3, 4, 5]\n",
    "sum_all = reduce(lambda x, y: x + y, numbers)\n",
    "print(sum_all)"
   ]
  },
  {
   "cell_type": "code",
   "execution_count": null,
   "id": "4f5f085e",
   "metadata": {},
   "outputs": [],
   "source": [
    "# Using Lambda Functions in Sorting\n",
    "# Sorting a list of dictionaries by key*\n",
    "students = [\n",
    "    {\"name\": \"Alice\", \"age\": 25},\n",
    "    {\"name\": \"Bob\", \"age\": 20},\n",
    "    {\"name\": \"Charlie\", \"age\": 30}\n",
    "]\n",
    "\n",
    "students.sort(key=lambda student: student[\"age\"])\n",
    "print(students)\n"
   ]
  },
  {
   "cell_type": "markdown",
   "id": "868aefbf",
   "metadata": {},
   "source": [
    "#### **Decorators**\n",
    "\n",
    "**What is a Decorator?**\n",
    "✅ A **decorator** is a function that **modifies another function** **without changing its actual implementation**.\n",
    "✅ It **wraps** the original function to **add extra functionality**."
   ]
  },
  {
   "cell_type": "markdown",
   "id": "772660d3",
   "metadata": {},
   "source": [
    "✅ **Logging Before Function Execution**"
   ]
  },
  {
   "cell_type": "code",
   "execution_count": null,
   "id": "e0ab77d6",
   "metadata": {},
   "outputs": [],
   "source": [
    "def log_decorator(func):\n",
    "    def wrapper():\n",
    "        print(f\"Executing {func.__name__}()\")\n",
    "        return func()\n",
    "    return wrapper\n",
    "\n",
    "@log_decorator\n",
    "def greet():\n",
    "    print(\"Hello, World!\")\n",
    "\n",
    "greet()"
   ]
  },
  {
   "cell_type": "markdown",
   "id": "9da9f69c",
   "metadata": {},
   "source": [
    "✅ **Decorators that handle function arguments**"
   ]
  },
  {
   "cell_type": "code",
   "execution_count": null,
   "id": "e9628b33",
   "metadata": {},
   "outputs": [],
   "source": [
    "def log_decorator(func):\n",
    "    def wrapper(*args, **kwargs):\n",
    "        print(f\"Calling {func.__name__} with arguments {args}, {kwargs}\")\n",
    "        return func(*args, **kwargs)\n",
    "    return wrapper\n",
    "\n",
    "@log_decorator\n",
    "def add(a, b):\n",
    "    return a + b\n",
    "\n",
    "print(add(3, 7))"
   ]
  },
  {
   "cell_type": "markdown",
   "id": "07de4820",
   "metadata": {},
   "source": [
    "✅ **Measuring function execution time**"
   ]
  },
  {
   "cell_type": "code",
   "execution_count": null,
   "id": "0fdaf379",
   "metadata": {},
   "outputs": [],
   "source": [
    "import time\n",
    "\n",
    "def timer_decorator(func):\n",
    "    def wrapper(*args, **kwargs):\n",
    "        start_time = time.time()\n",
    "        result = func(*args, **kwargs)\n",
    "        end_time = time.time()\n",
    "        print(f\"{func.__name__} took {end_time - start_time:.4f} seconds\")\n",
    "        return result\n",
    "    return wrapper\n",
    "\n",
    "@timer_decorator\n",
    "def slow_function():\n",
    "    time.sleep(2)  # Simulating slow operation\n",
    "    print(\"Function execution complete\")\n",
    "\n",
    "slow_function()"
   ]
  },
  {
   "cell_type": "markdown",
   "id": "bd7c6ea0",
   "metadata": {},
   "source": [
    "✅ **Applying multiple decorators to a function**"
   ]
  },
  {
   "cell_type": "code",
   "execution_count": null,
   "id": "8ff3dffa",
   "metadata": {},
   "outputs": [],
   "source": [
    "def decorator_1(func):\n",
    "    def wrapper():\n",
    "        print(\"Decorator 1 applied\")\n",
    "        return func()\n",
    "    return wrapper\n",
    "\n",
    "def decorator_2(func):\n",
    "    def wrapper():\n",
    "        print(\"Decorator 2 applied\")\n",
    "        return func()\n",
    "    return wrapper\n",
    "\n",
    "@decorator_1\n",
    "@decorator_2\n",
    "def say_hello():\n",
    "    print(\"Hello!\")\n",
    "\n",
    "say_hello()"
   ]
  },
  {
   "cell_type": "markdown",
   "id": "a413435c",
   "metadata": {},
   "source": [
    "✅ **Passing parameters to decorators**"
   ]
  },
  {
   "cell_type": "code",
   "execution_count": null,
   "id": "c9900051",
   "metadata": {},
   "outputs": [],
   "source": [
    "def repeat(n):\n",
    "    def decorator(func):\n",
    "        def wrapper(*args, **kwargs):\n",
    "            for _ in range(n):\n",
    "                func(*args, **kwargs)\n",
    "        return wrapper\n",
    "    return decorator\n",
    "\n",
    "@repeat(3)  # Function will execute 3 times\n",
    "def greet():\n",
    "    print(\"Hello!\")\n",
    "\n",
    "greet()"
   ]
  },
  {
   "cell_type": "markdown",
   "id": "3532f162",
   "metadata": {},
   "source": [
    "#### **Use Cases for Decorators**\n",
    "\n",
    "| **Use Case** | **Example** |\n",
    "|-------------|------------|\n",
    "| **Logging** | `@log_decorator` for debugging |\n",
    "| **Authentication** | `@auth_required` for checking login credentials |\n",
    "| **Timing Execution** | `@timer_decorator` for measuring performance |\n",
    "| **Access Control** | `@role_based_access` for permissions |\n",
    "| **Retries & Error Handling** | `@retry(3)` to retry a function if it fails |"
   ]
  },
  {
   "cell_type": "code",
   "execution_count": null,
   "id": "3e364aff",
   "metadata": {},
   "outputs": [],
   "source": [
    "def auth_required(func):\n",
    "    def wrapper(username):\n",
    "        if username != \"admin\":\n",
    "            print(\"Access Denied\")\n",
    "            return\n",
    "        return func(username)\n",
    "    return wrapper\n",
    "\n",
    "@auth_required\n",
    "def dashboard(username):\n",
    "    print(f\"Welcome to the admin dashboard, {username}\")\n",
    "\n",
    "dashboard(\"user\")   # Output: Access Denied\n",
    "dashboard(\"admin\")  # Output: Welcome to the admin dashboard, admin"
   ]
  },
  {
   "cell_type": "markdown",
   "id": "f0eda493",
   "metadata": {},
   "source": [
    "\n",
    "------------------------------------------------------------------------\n",
    "\n",
    "#### **Modular Programming in Python**\n",
    "\n",
    "-   **Content:**\n",
    "    -   Modular programming involves dividing a program into separate\n",
    "        modules.\n",
    "\n",
    "    -   Each module can be imported into other scripts using the\n",
    "        `import` statement.\n",
    "\n",
    "    -   Modules help organize code and improve maintainability.\n",
    "\n",
    "    -   Python files (ending in `.py`) are treated as modules.\n",
    "\n",
    "    -   Use `import module_name` to import functionality from other\n",
    "        files."
   ]
  },
  {
   "cell_type": "code",
   "execution_count": null,
   "id": "664a620c",
   "metadata": {},
   "outputs": [],
   "source": [
    "import mymodule\n",
    "\n",
    "result = mymodule.multiply(4, 5)\n",
    "print(result)  # Output: 20\n",
    "\n"
   ]
  },
  {
   "cell_type": "code",
   "execution_count": null,
   "id": "891ade55",
   "metadata": {},
   "outputs": [],
   "source": [
    "from mymodule import multiply\n",
    "results = multiply(3,4)\n",
    "print(results)"
   ]
  },
  {
   "cell_type": "code",
   "execution_count": null,
   "id": "cac454ce",
   "metadata": {},
   "outputs": [],
   "source": [
    "\n",
    "numbers = [1, 2, 3, 4, 5, 6]\n",
    "print(mymodule.sum_even_numbers(numbers))  # Output: 12\n",
    "print(mymodule.add(10, 5))  # Output: 15\n"
   ]
  },
  {
   "cell_type": "markdown",
   "id": "c0545196",
   "metadata": {},
   "source": [
    "### **File Handling in Python**\n",
    "File handling in Python allows reading, writing, and manipulating different types of files (text, CSV, JSON, binary). It is essential for **data processing, logging, and saving results**.\n",
    "\n",
    "#### **Opening & Closing Files**"
   ]
  },
  {
   "cell_type": "code",
   "execution_count": null,
   "id": "30516447",
   "metadata": {},
   "outputs": [],
   "source": [
    "# Opening a file\n",
    "file = open(\"example.txt\", \"r\")  # Open file in read mode\n",
    "content = file.read()\n",
    "file.close()"
   ]
  },
  {
   "cell_type": "code",
   "execution_count": null,
   "id": "16db5c1b",
   "metadata": {},
   "outputs": [],
   "source": [
    "# Using `with` to Handle Files Safely\n",
    "with open(\"example.txt\", \"r\") as file:\n",
    "    content = file.read()"
   ]
  },
  {
   "cell_type": "code",
   "execution_count": null,
   "id": "57cf71ad",
   "metadata": {},
   "outputs": [],
   "source": [
    "# Reading a File Line by Line\n",
    "with open(\"example.txt\", \"r\") as file:\n",
    "    for line in file:\n",
    "        print(line.strip())  # Strip removes trailing newlines"
   ]
  },
  {
   "cell_type": "code",
   "execution_count": null,
   "id": "5756a4e1",
   "metadata": {},
   "outputs": [],
   "source": [
    "# Writing to a File\n",
    "with open(\"output.txt\", \"w\") as file:\n",
    "    file.write(\"Hello, World!\\n\")\n",
    "    file.write(\"Python file handling is easy!\")"
   ]
  },
  {
   "cell_type": "code",
   "execution_count": null,
   "id": "851ab1f1",
   "metadata": {},
   "outputs": [],
   "source": [
    "# Appending to a File\n",
    "with open(\"output.txt\", \"a\") as file:\n",
    "    file.write(\"\\nAppending new data.\")"
   ]
  },
  {
   "cell_type": "markdown",
   "id": "62975018",
   "metadata": {},
   "source": [
    "\n",
    "---\n",
    "\n",
    "#### **Handling CSV Files**\n",
    "**Reading CSV Files with `csv` Module**"
   ]
  },
  {
   "cell_type": "code",
   "execution_count": null,
   "id": "9012e07a",
   "metadata": {},
   "outputs": [],
   "source": [
    "import csv\n",
    "\n",
    "with open(\"data.csv\", \"r\") as file:\n",
    "    reader = csv.reader(file)\n",
    "    for row in reader:\n",
    "        print(row)"
   ]
  },
  {
   "cell_type": "code",
   "execution_count": null,
   "id": "5a83f5bb",
   "metadata": {},
   "outputs": [],
   "source": [
    "# Writing to CSV files\n",
    "with open(\"output.csv\", \"w\", newline=\"\") as file:\n",
    "    writer = csv.writer(file)\n",
    "    writer.writerow([\"Name\", \"Age\"])\n",
    "    writer.writerow([\"Alice\", 25])\n",
    "    writer.writerow([\"Bob\", 30])"
   ]
  },
  {
   "cell_type": "markdown",
   "id": "46223967",
   "metadata": {},
   "source": [
    "\n",
    "---\n",
    "#### **Handling JSON Files**\n",
    "✅ **Reading a JSON File**"
   ]
  },
  {
   "cell_type": "code",
   "execution_count": null,
   "id": "052890c2",
   "metadata": {},
   "outputs": [],
   "source": [
    "import json\n",
    "\n",
    "with open(\"data.json\", \"r\") as file:\n",
    "    data = json.load(file)  # Parse JSON into Python dict\n",
    "    print(data)"
   ]
  },
  {
   "cell_type": "code",
   "execution_count": null,
   "id": "59481553",
   "metadata": {},
   "outputs": [],
   "source": [
    "# Writing to a JSON File\n",
    "data = {\"name\": \"Alice\", \"age\": 25}\n",
    "\n",
    "with open(\"output.json\", \"w\") as file:\n",
    "    json.dump(data, file, indent=4)  # Save as JSON format"
   ]
  },
  {
   "cell_type": "markdown",
   "id": "fc07c319",
   "metadata": {},
   "source": [
    "\n",
    "---\n",
    "\n",
    "## **Reading and Writing Binary Files**\n",
    "**Reading and Writing a Binary File**"
   ]
  },
  {
   "cell_type": "code",
   "execution_count": null,
   "id": "cb6dcb16",
   "metadata": {},
   "outputs": [],
   "source": [
    "# Writing binary data\n",
    "with open(\"image.jpg\", \"rb\") as file:\n",
    "    data = file.read()\n",
    "\n",
    "# Writing binary data to another file\n",
    "with open(\"copy.jpg\", \"wb\") as file:\n",
    "    file.write(data)"
   ]
  },
  {
   "cell_type": "code",
   "execution_count": 14,
   "id": "729d05e2",
   "metadata": {},
   "outputs": [],
   "source": [
    "# write a string text  and save it in sample.txt:\n",
    "\n",
    "import mymodule\n",
    "\n",
    "mymodule.write_file(\"sample.txt\", \"This is a sample text.\") \n"
   ]
  },
  {
   "cell_type": "code",
   "execution_count": null,
   "id": "2cb47beb",
   "metadata": {},
   "outputs": [],
   "source": [
    "print(mymodule.read_file(\"sample.txt\"))  # Output: Contents of sample.txt"
   ]
  },
  {
   "cell_type": "markdown",
   "id": "912a0f0f",
   "metadata": {},
   "source": [
    "\n",
    "---\n",
    "\n",
    "### **Data Structures in Python**  \n",
    "\n",
    "Python provides **four built-in data structures**:  \n",
    "| **Data Structure** | **Ordered?** | **Mutable?** | **Unique Elements?** |\n",
    "|--------------------|-------------|-------------|----------------------|\n",
    "| **List** (`[]`) | ✅ Yes | ✅ Yes | ❌ No |\n",
    "| **Tuple** (`()`) | ✅ Yes | ❌ No | ❌ No |\n",
    "| **Set** (`{}`) | ❌ No | ✅ Yes | ✅ Yes |\n",
    "| **Dictionary** (`{key: value}`) | ✅ Yes | ✅ Yes | ✅ Unique Keys |\n",
    "\n",
    "---\n",
    "\n",
    "#### **Lists in Python (Ordered, Mutable)**  \n",
    "\n",
    "**Creating and Accessing Lists**"
   ]
  },
  {
   "cell_type": "code",
   "execution_count": null,
   "id": "cc3a0d0e",
   "metadata": {},
   "outputs": [],
   "source": [
    "fruits = [\"apple\", \"banana\", \"cherry\"]\n",
    "print(fruits[0])  # Output: apple"
   ]
  },
  {
   "cell_type": "code",
   "execution_count": null,
   "id": "3656a69d",
   "metadata": {},
   "outputs": [],
   "source": [
    "# Modifiying a list \n",
    "fruits.append(\"orange\")  # Add element\n",
    "fruits.remove(\"banana\")  # Remove element\n",
    "print(fruits)  "
   ]
  },
  {
   "cell_type": "code",
   "execution_count": null,
   "id": "7fe01fc9",
   "metadata": {},
   "outputs": [],
   "source": [
    "# List Comprenhension\n",
    "squared_numbers = [x ** 2 for x in range(5)]\n",
    "print(squared_numbers)  "
   ]
  },
  {
   "cell_type": "code",
   "execution_count": null,
   "id": "fa2d1a23",
   "metadata": {},
   "outputs": [],
   "source": [
    "# Looping through a List\n",
    "for fruit in fruits:\n",
    "    print(f\"I like {fruit}\")"
   ]
  },
  {
   "cell_type": "code",
   "execution_count": null,
   "id": "6372083e",
   "metadata": {},
   "outputs": [],
   "source": [
    "# Sorting a List\n",
    "numbers = [3, 1, 4, 1, 5]\n",
    "numbers.sort()\n",
    "print(numbers)"
   ]
  },
  {
   "cell_type": "markdown",
   "id": "a4aa284d",
   "metadata": {},
   "source": [
    "#### **Tuples in Python (Ordered, Immutable)**  \n",
    "\n",
    "✅ **Creating a Tuple**"
   ]
  },
  {
   "cell_type": "code",
   "execution_count": null,
   "id": "77753711",
   "metadata": {},
   "outputs": [],
   "source": [
    "coordinates = (10, 20)\n",
    "print(coordinates[0]) "
   ]
  },
  {
   "cell_type": "code",
   "execution_count": null,
   "id": "abcff831",
   "metadata": {},
   "outputs": [],
   "source": [
    "# Tuple Unpacking\n",
    "x, y = coordinates\n",
    "print(x)"
   ]
  },
  {
   "cell_type": "code",
   "execution_count": null,
   "id": "fc77e0b7",
   "metadata": {},
   "outputs": [],
   "source": [
    "def get_user():\n",
    "    return (\"Alice\", 25)\n",
    "\n",
    "name, age = get_user()\n",
    "print(name)"
   ]
  },
  {
   "cell_type": "markdown",
   "id": "eb83513c",
   "metadata": {},
   "source": [
    "#### **Sets in Python (Unordered, Unique Elements)**  \n",
    "\n",
    "**Creating a Set**"
   ]
  },
  {
   "cell_type": "code",
   "execution_count": null,
   "id": "745dfc89",
   "metadata": {},
   "outputs": [],
   "source": [
    "unique_numbers = {1, 2, 2, 3}\n",
    "print(unique_numbers)"
   ]
  },
  {
   "cell_type": "code",
   "execution_count": null,
   "id": "18b894bf",
   "metadata": {},
   "outputs": [],
   "source": [
    "# Set Operations\n",
    "set1 = {1, 2, 3}\n",
    "set2 = {3, 4, 5}\n",
    "\n",
    "print(set1.union(set2))  # Output: {1, 2, 3, 4, 5}\n",
    "print(set1.intersection(set2))  # Output: {3}\n",
    "\n",
    "print(set1 | set2)  # Union: {1, 2, 3, 4, 5}\n",
    "print(set1 & set2)  # Intersection: {3}\n",
    "print(set1 - set2)  # Difference: {1, 2}"
   ]
  },
  {
   "cell_type": "code",
   "execution_count": null,
   "id": "d89c1175",
   "metadata": {},
   "outputs": [],
   "source": [
    "# Checking Membership\n",
    "print(1 in set1) \n",
    "print(5 not in set1)  \n"
   ]
  },
  {
   "cell_type": "markdown",
   "id": "19dfa2a7",
   "metadata": {},
   "source": [
    "#### **Dictionaries in Python (Key-Value Pairs, Ordered)**  \n",
    "\n",
    "**Creating and Accessing a Dictionary**"
   ]
  },
  {
   "cell_type": "code",
   "execution_count": null,
   "id": "bcc84a71",
   "metadata": {},
   "outputs": [],
   "source": [
    "person = {\"name\": \"Alice\", \"age\": 25, \"city\": \"Paris\"}\n",
    "print(person[\"name\"]) "
   ]
  },
  {
   "cell_type": "code",
   "execution_count": null,
   "id": "fd0cf86d",
   "metadata": {},
   "outputs": [],
   "source": [
    "# Adding & Modifyinng Dictionary\n",
    "person[\"email\"] = \"alice@example.com\"\n",
    "person[\"age\"] = 26"
   ]
  },
  {
   "cell_type": "code",
   "execution_count": null,
   "id": "09c01afa",
   "metadata": {},
   "outputs": [],
   "source": [
    "# Looping Through a Dictionary\n",
    "for key, value in person.items():\n",
    "    print(f\"{key}: {value}\")\n",
    "    "
   ]
  },
  {
   "cell_type": "markdown",
   "id": "111a00e6",
   "metadata": {},
   "source": [
    "### **Introduction to NumPy – Numerical Computing in Python**  \n",
    "\n",
    "NumPy (**Numerical Python**) is a **high-performance library** used for **numerical computing**. It provides **multi-dimensional arrays** and **mathematical functions** optimized for fast execution.  \n",
    "\n",
    "---\n",
    "\n",
    "#### **Why Use NumPy?**  \n",
    "✅ **Fast & Efficient** – Much faster than Python lists due to **vectorized operations**.  \n",
    "✅ **Memory Optimization** – Uses **contiguous memory storage** for efficient computation.  \n",
    "✅ **Built-in Mathematical Operations** – Supports **linear algebra, statistics, random sampling**.  \n",
    "✅ **Foundation for Other Libraries** – Used in **Pandas, SciPy, TensorFlow, PyTorch**.  \n",
    "\n",
    "#### **Creating and Manipulating NumPy Arrays**  \n",
    "NumPy uses the **`numpy.array`** object to store and manipulate numerical data efficiently.  \n",
    "\n",
    "**Creating a NumPy Array**  "
   ]
  },
  {
   "cell_type": "code",
   "execution_count": null,
   "id": "7a5ab6be",
   "metadata": {},
   "outputs": [],
   "source": [
    "import numpy as np\n",
    "arr = np.array([1, 2, 3, 4, 5])\n",
    "print(arr)  "
   ]
  },
  {
   "cell_type": "markdown",
   "id": "43b40d48",
   "metadata": {},
   "source": [
    "**Multi-dimensional Arrays (Matrices)**  "
   ]
  },
  {
   "cell_type": "code",
   "execution_count": null,
   "id": "29f93ce2",
   "metadata": {},
   "outputs": [],
   "source": [
    "matrix = np.array([[1, 2, 3], [4, 5, 6]])\n",
    "print(matrix.shape) "
   ]
  },
  {
   "cell_type": "markdown",
   "id": "d0ba23a9",
   "metadata": {},
   "source": [
    "**Generating Special Arrays** "
   ]
  },
  {
   "cell_type": "code",
   "execution_count": null,
   "id": "6516a757",
   "metadata": {},
   "outputs": [],
   "source": [
    "zeros = np.zeros((3, 3))  # 3x3 matrix of zeros\n",
    "ones = np.ones((2, 2))  # 2x2 matrix of ones\n",
    "identity = np.eye(3)  # 3x3 Identity matrix\n",
    "random_vals = np.random.rand(3, 3)  # 3x3 matrix of random values"
   ]
  },
  {
   "cell_type": "markdown",
   "id": "ca1b9a50",
   "metadata": {},
   "source": [
    "### **🔹 NumPy Operations & Statistics**  \n",
    "**Array Indexing & Slicing**  "
   ]
  },
  {
   "cell_type": "code",
   "execution_count": null,
   "id": "8f491bc6",
   "metadata": {},
   "outputs": [],
   "source": [
    "arr = np.array([10, 20, 30, 40, 50])\n",
    "print(arr[2])  # Output: 30\n",
    "print(arr[1:4])  # Output: [20 30 40]"
   ]
  },
  {
   "cell_type": "markdown",
   "id": "f467d8c6",
   "metadata": {},
   "source": [
    "**Mathematical Operations (Element-wise)**  "
   ]
  },
  {
   "cell_type": "code",
   "execution_count": null,
   "id": "5e33adc9",
   "metadata": {},
   "outputs": [],
   "source": [
    "arr = np.array([1, 2, 3])\n",
    "print(arr * 2)  # Output: [2 4 6]\n",
    "print(arr + 5)  # Output: [6 7 8]"
   ]
  },
  {
   "cell_type": "markdown",
   "id": "f2af47f6",
   "metadata": {},
   "source": [
    "**Statistical Computations**  "
   ]
  },
  {
   "cell_type": "code",
   "execution_count": null,
   "id": "0c75d256",
   "metadata": {},
   "outputs": [],
   "source": [
    "data = np.array([10, 20, 30, 40, 50])\n",
    "print(np.mean(data))  # Average: 30.0\n",
    "print(np.median(data))  # Median: 30.0\n",
    "print(np.std(data))  # Standard deviation: 14.14"
   ]
  },
  {
   "cell_type": "markdown",
   "id": "f227327d",
   "metadata": {},
   "source": [
    " **Reshaping and Transposing Arrays**"
   ]
  },
  {
   "cell_type": "code",
   "execution_count": null,
   "id": "0d129675",
   "metadata": {},
   "outputs": [],
   "source": [
    "matrix = np.array([[1, 2, 3], [4, 5, 6]])\n",
    "reshaped = matrix.reshape(3, 2)  # Convert to 3 rows, 2 columns\n",
    "transposed = matrix.T  # Transpose (swap rows & columns)"
   ]
  },
  {
   "cell_type": "markdown",
   "id": "fd476696",
   "metadata": {},
   "source": [
    "## **Introduction to Pandas – Data Analysis & Manipulation**  \n",
    "\n",
    "Pandas is **the most powerful Python library** for **structured data processing**. It provides **DataFrames**, which allow easy handling of tabular data (similar to SQL tables & Excel).  \n",
    "\n",
    "---\n",
    "\n",
    "#### **Why Use Pandas?**  \n",
    "✅ **Handles Structured Data Efficiently** – Ideal for CSV, Excel, JSON, SQL data.  \n",
    "✅ **Powerful Data Analysis** – Supports filtering, sorting, aggregations, and transformations.  \n",
    "✅ **Integrated with Other Libraries** – Works seamlessly with **NumPy, Matplotlib, Scikit-Learn**.  \n",
    "\n",
    "\n",
    "#### **Creating and Working with DataFrames**  \n",
    "\n",
    "**Creating a DataFrame from a Dictionary** "
   ]
  },
  {
   "cell_type": "code",
   "execution_count": null,
   "id": "c8124dac",
   "metadata": {},
   "outputs": [],
   "source": [
    "import pandas as pd\n",
    "\n",
    "data = {\"Name\": [\"Alice\", \"Bob\", \"Charlie\"], \"Age\": [25, 30, 35], \"City\": [\"Paris\", \"London\", \"New York\"]}\n",
    "df = pd.DataFrame(data)\n",
    "print(df)"
   ]
  },
  {
   "cell_type": "markdown",
   "id": "1c7315f8",
   "metadata": {},
   "source": [
    "**Reading Data from a CSV File** "
   ]
  },
  {
   "cell_type": "code",
   "execution_count": null,
   "id": "1fccea66",
   "metadata": {},
   "outputs": [],
   "source": [
    "df = pd.read_csv(\"data.csv\")\n",
    "print(df.head())  # Show first 5 rows"
   ]
  },
  {
   "cell_type": "markdown",
   "id": "b56b0d42",
   "metadata": {},
   "source": [
    "**Saving Data to a CSV File**  "
   ]
  },
  {
   "cell_type": "code",
   "execution_count": null,
   "id": "c385c9c4",
   "metadata": {},
   "outputs": [],
   "source": [
    "df.to_csv(\"output.csv\", index=False)"
   ]
  },
  {
   "cell_type": "markdown",
   "id": "c08f49b7",
   "metadata": {},
   "source": [
    "### **🔹 Data Selection and Filtering**  \n",
    "\n",
    "✅ **Selecting Columns**"
   ]
  },
  {
   "cell_type": "code",
   "execution_count": null,
   "id": "41859801",
   "metadata": {},
   "outputs": [],
   "source": [
    "print(df[\"Name\"])  # Select a single column"
   ]
  },
  {
   "cell_type": "markdown",
   "id": "f5d39ad1",
   "metadata": {},
   "source": [
    "✅ **Filtering Data**"
   ]
  },
  {
   "cell_type": "code",
   "execution_count": null,
   "id": "dcf00072",
   "metadata": {},
   "outputs": [],
   "source": [
    "adults = df[df[\"Age\"] > 30]  # Get rows where Age > 30\n",
    "print(adults)"
   ]
  },
  {
   "cell_type": "markdown",
   "id": "ae6b2960",
   "metadata": {},
   "source": [
    "✅ **Sorting Data**"
   ]
  },
  {
   "cell_type": "code",
   "execution_count": null,
   "id": "3ea62188",
   "metadata": {},
   "outputs": [],
   "source": [
    "sorted_df = df.sort_values(by=\"Age\", ascending=False)\n",
    "print(sorted_df)"
   ]
  },
  {
   "cell_type": "markdown",
   "id": "90ff0a3d",
   "metadata": {},
   "source": [
    "### **🔹 Data Cleaning & Transformation**  \n",
    "\n",
    "✅ **Handling Missing Values**"
   ]
  },
  {
   "cell_type": "code",
   "execution_count": null,
   "id": "bd36b7f5",
   "metadata": {},
   "outputs": [],
   "source": [
    "df.fillna(0)  # Replace missing values with 0\n",
    "df.dropna()  # Remove rows with missing values"
   ]
  },
  {
   "cell_type": "markdown",
   "id": "4fc0250c",
   "metadata": {},
   "source": [
    "✅ **Modifying Data**"
   ]
  },
  {
   "cell_type": "code",
   "execution_count": null,
   "id": "2630cb22",
   "metadata": {},
   "outputs": [],
   "source": [
    "df[\"Age\"] = df[\"Age\"] + 5  # Increase everyone's age by 5 years"
   ]
  },
  {
   "cell_type": "markdown",
   "id": "f203c363",
   "metadata": {},
   "source": [
    "✅ **Grouping and Aggregation**"
   ]
  },
  {
   "cell_type": "code",
   "execution_count": null,
   "id": "4e06382e",
   "metadata": {},
   "outputs": [],
   "source": [
    "grouped = df.groupby(\"City\")[\"Age\"].mean()  # Get average age per city\n",
    "print(grouped)"
   ]
  },
  {
   "cell_type": "markdown",
   "id": "32159831",
   "metadata": {},
   "source": [
    "✅ **Merging and Joining DataFrames**"
   ]
  },
  {
   "cell_type": "code",
   "execution_count": null,
   "id": "cef6a080",
   "metadata": {},
   "outputs": [],
   "source": [
    "df1 = pd.DataFrame({\"ID\": [1, 2], \"Name\": [\"Alice\", \"Bob\"]})\n",
    "df2 = pd.DataFrame({\"ID\": [1, 2], \"Score\": [90, 85]})\n",
    "merged_df = pd.merge(df1, df2, on=\"ID\")  # Merge on 'ID'"
   ]
  },
  {
   "cell_type": "markdown",
   "id": "dbb1d2c7",
   "metadata": {},
   "source": [
    "### **🔹 Visualizing Data with Pandas**  \n",
    "\n",
    "✅ **Generate Summary Statistics**"
   ]
  },
  {
   "cell_type": "code",
   "execution_count": null,
   "id": "fe2e4757",
   "metadata": {},
   "outputs": [],
   "source": [
    "print(df.describe())  # Get statistical summary"
   ]
  },
  {
   "cell_type": "markdown",
   "id": "92a30c06",
   "metadata": {},
   "source": [
    "✅ **Plotting Data**"
   ]
  },
  {
   "cell_type": "code",
   "execution_count": null,
   "id": "0f3f315b",
   "metadata": {},
   "outputs": [],
   "source": [
    "import matplotlib.pyplot as plt\n",
    "df[\"Age\"].hist(bins=5)  # Histogram of age distribution\n",
    "plt.show()"
   ]
  },
  {
   "cell_type": "markdown",
   "id": "652cadc4",
   "metadata": {},
   "source": [
    "### **Summary: Key Differences Between NumPy & Pandas**\n",
    "| Feature  | NumPy | Pandas |\n",
    "|----------|------|------|\n",
    "| **Data Type** | Arrays (Homogeneous) | DataFrames (Heterogeneous) |\n",
    "| **Usage** | Numerical computing, matrices | Data analysis, tabular data |\n",
    "| **Operations** | Fast element-wise operations | Filtering, sorting, grouping |\n"
   ]
  }
 ],
 "metadata": {
  "kernelspec": {
   "display_name": ".venv",
   "language": "python",
   "name": "python3"
  },
  "language_info": {
   "codemirror_mode": {
    "name": "ipython",
    "version": 3
   },
   "file_extension": ".py",
   "mimetype": "text/x-python",
   "name": "python",
   "nbconvert_exporter": "python",
   "pygments_lexer": "ipython3",
   "version": "3.9.6"
  }
 },
 "nbformat": 4,
 "nbformat_minor": 5
}
