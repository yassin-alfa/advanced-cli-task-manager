{
 "cells": [
  {
   "cell_type": "markdown",
   "metadata": {},
   "source": [
    "# **Monitoring and Logging in Python**  \n",
    "\n",
    "Monitoring and logging are essential for **debugging, tracking application performance, and identifying issues** in production systems. This section covers:\n",
    "1. **What is Logging & Why is it Important?**  \n",
    "2. **Python’s `logging` Module**  \n",
    "3. **Logging Levels & Configuration**  \n",
    "4. **Writing Logs to Files**  \n",
    "5. **Logging Best Practices**  \n",
    "6. **Monitoring System Performance (`psutil`)**  \n",
    "7. **Application Performance Monitoring (APM)**  \n",
    "\n",
    "---\n",
    "\n",
    "## **What is Logging & Why is it Important?**  \n",
    "\n",
    "✅ **Logging** is the process of recording application events, errors, and activities.  \n",
    "✅ **Why is logging useful?**  \n",
    "- Tracks **error messages, warnings, and debug information**.  \n",
    "- Helps in **post-mortem debugging** (analyzing issues after failure).  \n",
    "- Provides a **history of application behavior** for performance analysis.  \n",
    "- Essential for **monitoring production systems**.\n",
    "\n",
    "📌 **Example of Logging in Action**"
   ]
  },
  {
   "cell_type": "code",
   "execution_count": null,
   "metadata": {},
   "outputs": [],
   "source": [
    "import logging\n",
    "\n",
    "logging.basicConfig(level=logging.DEBUG)\n",
    "logging.info(\"Application started\")\n",
    "logging.warning(\"Potential issue detected!\")\n",
    "logging.error(\"An error occurred!\")"
   ]
  },
  {
   "cell_type": "markdown",
   "metadata": {},
   "source": [
    "\n",
    "---\n",
    "\n",
    "### **Logging Levels in Python**  \n",
    "\n",
    "📌 **Python’s `logging` module provides different levels of logging messages.**  \n",
    "\n",
    "| **Logging Level** | **Purpose** | **Example** |\n",
    "|------------------|------------|------------|\n",
    "| `DEBUG` | Detailed debugging info | `logging.debug(\"Variable X = 10\")` |\n",
    "| `INFO` | General application events | `logging.info(\"Service started\")` |\n",
    "| `WARNING` | Potential issues | `logging.warning(\"Low disk space\")` |\n",
    "| `ERROR` | Errors preventing execution | `logging.error(\"Database connection failed\")` |\n",
    "| `CRITICAL` | Severe failure (system crash) | `logging.critical(\"System shutting down!\")` |\n",
    "\n",
    "\n",
    "✅ **Example: Using Different Logging Levels**"
   ]
  },
  {
   "cell_type": "code",
   "execution_count": null,
   "metadata": {},
   "outputs": [],
   "source": [
    "import logging\n",
    "\n",
    "logging.basicConfig(level=logging.DEBUG)\n",
    "logging.debug(\"This is a debug message\")\n",
    "logging.info(\"This is an info message\")\n",
    "logging.warning(\"This is a warning message\")\n",
    "logging.error(\"This is an error message\")\n",
    "logging.critical(\"This is a critical message\")"
   ]
  },
  {
   "cell_type": "markdown",
   "metadata": {},
   "source": [
    "### **Writing Logs to a File**  \n",
    "\n",
    "**Redirecting Logs to a File for Persistent Storage** "
   ]
  },
  {
   "cell_type": "code",
   "execution_count": null,
   "metadata": {},
   "outputs": [],
   "source": [
    "import logging\n",
    "\n",
    "logging.basicConfig(filename=\"app.log\", level=logging.INFO,\n",
    "                    format=\"%(asctime)s - %(levelname)s - %(message)s\")\n",
    "\n",
    "logging.info(\"Application started\")\n",
    "logging.warning(\"Low memory warning\")\n",
    "logging.error(\"An error occurred!\")"
   ]
  },
  {
   "cell_type": "markdown",
   "metadata": {},
   "source": [
    "\n",
    "---\n",
    "\n",
    "## **Best Practices for Logging**  \n",
    "\n",
    "✅ **1. Use Appropriate Log Levels**\n",
    "- **Use `DEBUG`** for detailed debugging.  \n",
    "- **Use `INFO`** for general status updates.  \n",
    "- **Use `WARNING`** for potential problems.  \n",
    "- **Use `ERROR` & `CRITICAL`** for actual issues.  \n",
    "\n",
    "✅ **2. Use Log Formatting**\n",
    "```plaintext\n",
    "2025-02-12 12:45:32 - INFO - User logged in: Alice\n",
    "```\n",
    "Instead of:\n",
    "```plaintext\n",
    "User Alice logged in at 12:45\n",
    "```\n",
    "\n",
    "✅ **3. Log to Both Console and File**"
   ]
  },
  {
   "cell_type": "code",
   "execution_count": null,
   "metadata": {},
   "outputs": [],
   "source": [
    "import logging\n",
    "\n",
    "logger = logging.getLogger(\"AppLogger\")\n",
    "logger.setLevel(logging.DEBUG)\n",
    "\n",
    "console_handler = logging.StreamHandler()  # Logs to console\n",
    "file_handler = logging.FileHandler(\"app.log\")  # Logs to file\n",
    "\n",
    "formatter = logging.Formatter(\"%(asctime)s - %(levelname)s - %(message)s\")\n",
    "console_handler.setFormatter(formatter)\n",
    "file_handler.setFormatter(formatter)\n",
    "\n",
    "logger.addHandler(console_handler)\n",
    "logger.addHandler(file_handler)\n",
    "\n",
    "logger.info(\"Application started\")"
   ]
  }
 ],
 "metadata": {
  "language_info": {
   "name": "python"
  }
 },
 "nbformat": 4,
 "nbformat_minor": 2
}
