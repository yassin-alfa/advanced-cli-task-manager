{
 "cells": [
  {
   "cell_type": "markdown",
   "metadata": {},
   "source": [
    "# **Object-Oriented Programming (OOP) in Python**  \n",
    "\n",
    "### **What is Object-Oriented Programming?**  \n",
    "\n",
    "**Object-Oriented Programming (OOP)** is a programming paradigm that organizes code into **objects**, which bundle **data (attributes)** and **behavior (methods)** together.  \n",
    "\n",
    "**Why Use OOP?**  \n",
    "- **Encapsulation**: Groups related data and behavior together.  \n",
    "- **Reusability**: Code can be reused via **inheritance**.  \n",
    "- **Scalability**: Makes programs easier to maintain and expand.  \n",
    "- **Modularity**: Promotes better organization and modular design.\n",
    "  \n",
    "\n",
    "---\n",
    "\n",
    "**Key Concepts in OOP**  \n",
    "\n",
    "🔹 **Class** – A blueprint for creating objects.  \n",
    "🔹 **Object** – An instance of a class.  \n",
    "🔹 **Attributes** – Variables that store data within an object.  \n",
    "🔹 **Methods** – Functions that define object behavior.  \n",
    "🔹 **Encapsulation** – Restricting direct access to data.  \n",
    "🔹 **Inheritance** – Reusing and extending code.  \n",
    "🔹 **Polymorphism** – Methods behave differently based on the object calling them.  \n",
    "\n",
    "---\n",
    "\n",
    "### **Defining a Class and Creating Objects**  \n",
    "\n",
    "✅ **Creating a Class**"
   ]
  },
  {
   "cell_type": "code",
   "execution_count": null,
   "metadata": {},
   "outputs": [],
   "source": [
    "class Car:\n",
    "    def __init__(self, brand, model, year):\n",
    "        self.brand = brand  # Attribute\n",
    "        self.model = model\n",
    "        self.year = year\n",
    "\n",
    "    def display_info(self):\n",
    "        return f\"{self.year} {self.brand} {self.model}\""
   ]
  },
  {
   "cell_type": "code",
   "execution_count": null,
   "metadata": {},
   "outputs": [],
   "source": [
    "# Creating an Object*\n",
    "my_car = Car(\"Toyota\", \"Corolla\", 2022)\n",
    "print(my_car.display_info())  # Output: 2022 Toyota Corolla"
   ]
  },
  {
   "cell_type": "code",
   "execution_count": null,
   "metadata": {},
   "outputs": [],
   "source": [
    "# Accessing Attributes\n",
    "print(my_car.brand)  # Output: Toyota"
   ]
  },
  {
   "cell_type": "code",
   "execution_count": null,
   "metadata": {},
   "outputs": [],
   "source": [
    "# Modifying Attributes\n",
    "my_car.year = 2023\n",
    "print(my_car.display_info())  # Output: 2023 Toyota Corolla"
   ]
  },
  {
   "cell_type": "markdown",
   "metadata": {},
   "source": [
    "### **Encapsulation – Protecting Data**  \n",
    "\n",
    "Encapsulation **restricts direct access** to object attributes by using **private variables** (`__variable`).  \n",
    "\n",
    "**Example: Private Attributes**"
   ]
  },
  {
   "cell_type": "code",
   "execution_count": null,
   "metadata": {},
   "outputs": [],
   "source": [
    "class BankAccount:\n",
    "    def __init__(self, account_holder, balance):\n",
    "        self.account_holder = account_holder\n",
    "        self.__balance = balance  # Private attribute\n",
    "\n",
    "    def deposit(self, amount):\n",
    "        self.__balance += amount\n",
    "\n",
    "    def get_balance(self):\n",
    "        return self.__balance"
   ]
  },
  {
   "cell_type": "code",
   "execution_count": null,
   "metadata": {},
   "outputs": [],
   "source": [
    "# Trying to Access Private Attributes\n",
    "account = BankAccount(\"Alice\", 1000)\n",
    "print(account.get_balance())  # Output: 1000\n",
    "print(account.__balance)  # ❌ AttributeError: Private variable"
   ]
  },
  {
   "cell_type": "markdown",
   "metadata": {},
   "source": [
    "**Encapsulation ensures that sensitive data is only accessed through methods.**\n",
    "\n",
    "---\n",
    "\n",
    "### **Inheritance – Reusing Code**  \n",
    "\n",
    "✅ **Inheritance** allows a child class to **inherit attributes and methods** from a parent class.  \n",
    "\n",
    "✅ **Parent Class**"
   ]
  },
  {
   "cell_type": "code",
   "execution_count": null,
   "metadata": {},
   "outputs": [],
   "source": [
    "class Vehicle:\n",
    "    def __init__(self, brand):\n",
    "        self.brand = brand\n",
    "\n",
    "    def start(self):\n",
    "        return f\"{self.brand} is starting...\""
   ]
  },
  {
   "cell_type": "markdown",
   "metadata": {},
   "source": [
    "✅ **Child Class (Inheriting from Parent)**"
   ]
  },
  {
   "cell_type": "code",
   "execution_count": null,
   "metadata": {},
   "outputs": [],
   "source": [
    "class Car(Vehicle):\n",
    "    def __init__(self, brand, model):\n",
    "        super().__init__(brand)  # Call parent constructor\n",
    "        self.model = model\n",
    "\n",
    "    def drive(self):\n",
    "        return f\"{self.brand} {self.model} is driving.\""
   ]
  },
  {
   "cell_type": "markdown",
   "metadata": {},
   "source": [
    "✅ **Using Inheritance**"
   ]
  },
  {
   "cell_type": "code",
   "execution_count": null,
   "metadata": {},
   "outputs": [],
   "source": [
    "my_car = Car(\"Tesla\", \"Model 3\")\n",
    "print(my_car.start())  # Output: Tesla is starting...\n",
    "print(my_car.drive())  # Output: Tesla Model 3 is driving."
   ]
  },
  {
   "cell_type": "markdown",
   "metadata": {},
   "source": [
    "**Inheritance allows reusability, reducing redundancy in code.**\n",
    "\n",
    "---\n",
    "\n",
    "### **Polymorphism – Overriding Methods**  \n",
    "\n",
    "✅ **Polymorphism allows methods in different classes to have the same name but different implementations.**  \n",
    "\n",
    "✅ **Example: Parent and Child Class with the Same Method**"
   ]
  },
  {
   "cell_type": "code",
   "execution_count": null,
   "metadata": {},
   "outputs": [],
   "source": [
    "class Animal:\n",
    "    def make_sound(self):\n",
    "        return \"Some sound...\"\n",
    "\n",
    "class Dog(Animal):\n",
    "    def make_sound(self):\n",
    "        return \"Woof Woof!\"\n",
    "\n",
    "class Cat(Animal):\n",
    "    def make_sound(self):\n",
    "        return \"Meow!\""
   ]
  },
  {
   "cell_type": "code",
   "execution_count": null,
   "metadata": {},
   "outputs": [],
   "source": [
    "# Using Polymorphism\n",
    "\n",
    "animals = [Dog(), Cat(), Animal()]\n",
    "for animal in animals:\n",
    "    print(animal.make_sound())  "
   ]
  },
  {
   "cell_type": "markdown",
   "metadata": {},
   "source": [
    "**Polymorphism allows flexible method handling across different classes.**\n",
    "\n",
    "---\n",
    "\n",
    "### **Special Methods (`__str__`, `__len__`, `__add__`)**  \n",
    "\n",
    "✅ **Special (Magic) Methods** allow objects to interact like built-in types.  \n",
    "\n",
    "✅ **Example: `__str__()` for String Representation**"
   ]
  },
  {
   "cell_type": "code",
   "execution_count": null,
   "metadata": {},
   "outputs": [],
   "source": [
    "class Book:\n",
    "    def __init__(self, title, author):\n",
    "        self.title = title\n",
    "        self.author = author\n",
    "\n",
    "    def __str__(self):\n",
    "        return f\"{self.title} by {self.author}\"\n",
    "\n",
    "book = Book(\"Python Basics\", \"John Doe\")\n",
    "print(book)  # Output: Python Basics by John Doe"
   ]
  },
  {
   "cell_type": "code",
   "execution_count": null,
   "metadata": {},
   "outputs": [],
   "source": [
    "# Example: `__add__()` for Custom Addition\n",
    "\n",
    "class Number:\n",
    "    def __init__(self, value):\n",
    "        self.value = value\n",
    "\n",
    "    def __add__(self, other):\n",
    "        return Number(self.value + other.value)\n",
    "\n",
    "num1 = Number(10)\n",
    "num2 = Number(20)\n",
    "result = num1 + num2\n",
    "print(result.value)  # Output: 30"
   ]
  },
  {
   "cell_type": "markdown",
   "metadata": {},
   "source": [
    "**Special methods allow objects to behave like built-in types, improving usability.**\n",
    "\n",
    "---\n",
    "\n",
    "# **📌 Summary of OOP in Python**\n",
    "| **Concept** | **Description** | **Example** |\n",
    "|------------|--------------|-----------|\n",
    "| **Class & Object** | Blueprint & Instance | `Car(\"Tesla\", \"Model 3\")` |\n",
    "| **Encapsulation** | Restrict data access | `self.__balance` |\n",
    "| **Inheritance** | Reuse existing code | `class Car(Vehicle)` |\n",
    "| **Polymorphism** | Overriding methods | `def make_sound()` |\n",
    "| **Magic Methods** | Enhance objects | `__str__`, `__add__` |\n",
    "\n",
    "---"
   ]
  },
  {
   "cell_type": "markdown",
   "metadata": {},
   "source": []
  }
 ],
 "metadata": {
  "language_info": {
   "name": "python"
  }
 },
 "nbformat": 4,
 "nbformat_minor": 2
}
