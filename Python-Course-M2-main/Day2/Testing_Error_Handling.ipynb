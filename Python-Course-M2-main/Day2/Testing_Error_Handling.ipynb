{
 "cells": [
  {
   "cell_type": "markdown",
   "metadata": {},
   "source": [
    "# **Testing and Error Handling in Python**  \n",
    "---\n",
    "\n",
    "## **1- Testing in Python – Ensuring Code Reliability**  \n",
    "\n",
    "Testing is an essential part of software development. In Python, we use **unit tests, integration tests, and test automation** to ensure that our code **works as expected and remains stable** over time.  \n",
    "\n",
    "This section covers:\n",
    "1. **Types of Testing** in Python  \n",
    "2. **Unit Testing with `unittest`**  \n",
    "3. **Assertions & Test Cases**  \n",
    "4. **Testing with `pytest`**  \n",
    "5. **Mocking & Patching with `unittest.mock`**  \n",
    "6. **Test-Driven Development (TDD)**  \n",
    "\n",
    "---\n",
    "\n",
    "### **Why Do We Need Testing?**  \n",
    "\n",
    "✅ **Prevents Bugs** – Catch errors early before deployment.  \n",
    "✅ **Ensures Code Stability** – Verifies expected behavior.  \n",
    "✅ **Facilitates Refactoring** – Helps modify code without breaking it.  \n",
    "✅ **Improves Code Quality** – Encourages modular and maintainable code.  \n",
    "\n",
    "📌 **Example: What Happens Without Testing?**\n",
    "```python\n",
    "def divide(a, b):\n",
    "    return a / b\n",
    "\n",
    "print(divide(10, 2))  # ✅ Output: 5.0\n",
    "print(divide(10, 0))  # ❌ ZeroDivisionError!\n",
    "```\n",
    "🔹 **Solution?** Write tests to ensure the function handles errors correctly.\n",
    "\n",
    "---\n",
    "\n",
    "#### **Types of Testing in Python**  \n",
    "\n",
    "📌 **Testing is categorized into different types based on scope and purpose.**  \n",
    "\n",
    "| **Test Type** | **Description** | **Example** |\n",
    "|--------------|----------------|------------|\n",
    "| **Unit Testing** | Tests **individual functions or methods** | `unittest`, `pytest` |\n",
    "| **Integration Testing** | Tests how different modules interact | API communication tests |\n",
    "| **System Testing** | Tests the complete system as a whole | End-to-end tests |\n",
    "| **Performance Testing** | Measures response time and efficiency | Stress/load testing |\n",
    "| **Regression Testing** | Ensures new changes don’t break existing code | Automated test suites |\n",
    "\n",
    "---\n",
    "\n",
    "#### **Introduction to `unittest` in Python**  \n",
    "\n",
    "✅ **Python provides a built-in `unittest` module for testing.**  \n",
    "✅ **Key features:**\n",
    "- Allows **automated testing** of functions.  \n",
    "- Uses **assertions** to verify expected results.  \n",
    "- Supports **setup and teardown** methods.  \n",
    "\n",
    "**Basic Example of a Unit Test**"
   ]
  },
  {
   "cell_type": "code",
   "execution_count": null,
   "metadata": {},
   "outputs": [],
   "source": [
    "# import unittest\n",
    "\n",
    "# def add(a, b):\n",
    "#     return a + b\n",
    "\n",
    "# class TestMathOperations(unittest.TestCase):\n",
    "#     def test_addition(self):\n",
    "#         self.assertEqual(add(2, 3), 5)  # ✅ Passes\n",
    "#         self.assertEqual(add(-1, 1), 0)  # ✅ Passes\n",
    "\n",
    "# if __name__ == \"__main__\":\n",
    "#     unittest.main()\n",
    "!python3 test1.py"
   ]
  },
  {
   "cell_type": "markdown",
   "metadata": {},
   "source": [
    "🔹 **What happens?**\n",
    "- `assertEqual(add(2, 3), 5)` ✅ **Passes**\n",
    "- `assertEqual(add(-1, 1), 0)` ✅ **Passes**\n",
    "- If any test **fails**, Python will indicate the failure.\n",
    "\n",
    "---\n",
    "\n",
    "#### **Common Assertions in `unittest`**  \n",
    "\n",
    "✅ **Assertions check if a condition is `True`. If not, the test fails.**  \n",
    "\n",
    "| **Assertion** | **Checks If** | **Example** |\n",
    "|--------------|--------------|------------|\n",
    "| `assertEqual(a, b)` | `a == b` | `assertEqual(add(2,3), 5)` |\n",
    "| `assertNotEqual(a, b)` | `a != b` | `assertNotEqual(add(2,3), 6)` |\n",
    "| `assertTrue(x)` | `x is True` | `assertTrue(is_prime(5))` |\n",
    "| `assertFalse(x)` | `x is False` | `assertFalse(is_prime(4))` |\n",
    "| `assertRaises(Exception, func, *args)` | Function raises error | `assertRaises(ZeroDivisionError, divide, 5, 0)` |\n"
   ]
  },
  {
   "cell_type": "code",
   "execution_count": null,
   "metadata": {},
   "outputs": [],
   "source": [
    "# def divide(a, b):\n",
    "#     if b == 0:\n",
    "#         raise ValueError(\"Cannot divide by zero\")\n",
    "#     return a / b\n",
    "\n",
    "# class TestMath(unittest.TestCase):\n",
    "#     def test_divide(self):\n",
    "#         with self.assertRaises(ValueError):\n",
    "#             divide(10, 0)  # ✅ Expected Error\n",
    "\n",
    "# unittest.main()\n",
    "!python3 -m unittest test2.py"
   ]
  },
  {
   "cell_type": "markdown",
   "metadata": {},
   "source": [
    "#### **Running Tests and Understanding Output**  \n",
    "\n",
    "✅ **Run tests using the command:**\n",
    "```bash\n",
    "python -m unittest test_script.py\n",
    "```\n",
    "\n",
    "🔹 **Sample Test Output**\n",
    "```plaintext\n",
    "..\n",
    "----------------------------------------------------------------------\n",
    "Ran 2 tests in 0.001s\n",
    "\n",
    "OK\n",
    "```\n",
    "- `.` = Test passed  \n",
    "- `F` = Test failed  \n",
    "- `E` = Error occurred  \n",
    "\n",
    "**Handling Failed Tests**\n",
    "```plaintext\n",
    "AssertionError: 4 != 5\n",
    "```\n",
    "**Solution?** Fix the function and rerun tests.\n"
   ]
  },
  {
   "cell_type": "markdown",
   "metadata": {},
   "source": [
    "## 2- Error Handling\n",
    "Error handling is crucial for writing **robust and fault-tolerant applications**. In Python, errors are managed using **exceptions**, which allow developers to handle unexpected situations gracefully.  \n",
    "\n",
    "---\n",
    "\n",
    "### **What is Error Handling?**  \n",
    "\n",
    "✅ **Error Handling** prevents a program from crashing due to unexpected situations.  \n",
    "✅ **Common causes of errors**:  \n",
    "- Invalid user input (e.g., dividing by zero)  \n",
    "- Missing files  \n",
    "- Incorrect data types  \n",
    "- Network failures  \n",
    "\n",
    "**Without error handling, programs may crash unexpectedly:**"
   ]
  },
  {
   "cell_type": "code",
   "execution_count": null,
   "metadata": {},
   "outputs": [],
   "source": [
    "x = 10 / 0 "
   ]
  },
  {
   "cell_type": "markdown",
   "metadata": {},
   "source": [
    "**Solution?** Use **`try-except`** blocks to handle errors gracefully.  \n",
    "\n",
    "---\n",
    "\n",
    "### **Types of Errors in Python**  \n",
    "\n",
    "**Python has two main types of errors:**  \n",
    "\n",
    "| **Error Type** | **Description** | **Example** |\n",
    "|--------------|--------------|-----------|\n",
    "| **Syntax Error** | Incorrect syntax in code | `if x = 5:` ❌ |\n",
    "| **Runtime Error (Exception)** | Error during execution | `print(10 / 0)` ❌ |\n",
    "\n",
    "**Common Exceptions in Python**  \n",
    "\n",
    "| **Exception** | **Cause** | **Example** |\n",
    "|--------------|-----------|------------|\n",
    "| `ZeroDivisionError` | Division by zero | `10 / 0` |\n",
    "| `ValueError` | Invalid type for operation | `int(\"abc\")` |\n",
    "| `TypeError` | Wrong data type | `3 + \"hello\"` |\n",
    "| `KeyError` | Accessing non-existent dictionary key | `dict[\"missing_key\"]` |\n",
    "| `IndexError` | List index out of range | `my_list[100]` |\n",
    "| `FileNotFoundError` | File does not exist | `open(\"missing.txt\")` |\n",
    "\n"
   ]
  },
  {
   "cell_type": "code",
   "execution_count": null,
   "metadata": {},
   "outputs": [],
   "source": [
    "# Example: Handling a `ValueError`\n",
    "try:\n",
    "    num = int(input(\"Enter a number: \"))  \n",
    "except ValueError:\n",
    "    print(\"Invalid input! Please enter a number.\")"
   ]
  },
  {
   "cell_type": "markdown",
   "metadata": {},
   "source": [
    "#### **Using `try-except` to Handle Errors**  \n",
    "**Basic Syntax of `try-except`**\n",
    "```python\n",
    "try:\n",
    "    risky_code()  # Code that may cause an error\n",
    "except ExceptionType:\n",
    "    handle_error()  # What to do if an error occurs\n",
    "```"
   ]
  },
  {
   "cell_type": "code",
   "execution_count": null,
   "metadata": {},
   "outputs": [],
   "source": [
    "# Handling Division by Zero\n",
    "try:\n",
    "    x = 10 / 0\n",
    "except ZeroDivisionError:\n",
    "    print(\"Error: Cannot divide by zero.\")"
   ]
  },
  {
   "cell_type": "code",
   "execution_count": null,
   "metadata": {},
   "outputs": [],
   "source": [
    "# Handling Multiple Errors\n",
    "try:\n",
    "    num = int(input(\"Enter a number: \"))\n",
    "    x = 10 / num\n",
    "except ZeroDivisionError:\n",
    "    print(\"Error: Cannot divide by zero.\")\n",
    "except ValueError:\n",
    "    print(\"Error: Invalid input!\")\n",
    "print(x)\n"
   ]
  },
  {
   "cell_type": "markdown",
   "metadata": {},
   "source": [
    "#### **Using `else` and `finally` with `try-except`**  \n",
    "\n",
    "**The `else` block runs only if no exceptions occur.**  \n",
    "**The `finally` block runs whether an error occurs or not (used for cleanup).**  \n",
    "\n",
    "**Example: Using `else` and `finally`**"
   ]
  },
  {
   "cell_type": "code",
   "execution_count": null,
   "metadata": {},
   "outputs": [],
   "source": [
    "try:\n",
    "    num = int(input(\"Enter a number: \"))\n",
    "    result = 10 / num\n",
    "except ZeroDivisionError:\n",
    "    print(\"Cannot divide by zero.\")\n",
    "except ValueError:\n",
    "    print(\"Invalid input! Enter a number.\")\n",
    "else:\n",
    "    print(f\"Result: {result}\")  # Runs if no error occurs\n",
    "finally:\n",
    "    print(\"Execution completed.\")  # Always runs"
   ]
  },
  {
   "cell_type": "markdown",
   "metadata": {},
   "source": [
    "**Why use `finally`?**\n",
    "- Closing files  \n",
    "- Releasing database connections  \n",
    "- Cleaning up resources  \n",
    "\n",
    "---\n",
    "\n",
    "#### **Raising Custom Exceptions**  \n",
    "\n",
    "**Python allows us to define our own exceptions using `raise`.**  "
   ]
  },
  {
   "cell_type": "code",
   "execution_count": null,
   "metadata": {},
   "outputs": [],
   "source": [
    "# Example: Raising a Custom Error\n",
    "\n",
    "def withdraw(amount):\n",
    "    if amount < 0:\n",
    "        raise ValueError(\"Amount cannot be negative!\")\n",
    "    print(f\"Withdrawing ${amount}\")\n",
    "\n",
    "try:\n",
    "    withdraw(-50)\n",
    "except ValueError as e:\n",
    "    print(f\"Error: {e}\")"
   ]
  },
  {
   "cell_type": "code",
   "execution_count": null,
   "metadata": {},
   "outputs": [],
   "source": [
    "# Defining Custom Exception Classes\n",
    "\n",
    "class NegativeAmountError(Exception):\n",
    "    pass\n",
    "\n",
    "def withdraw(amount):\n",
    "    if amount < 0:\n",
    "        raise NegativeAmountError(\"Amount cannot be negative!\")"
   ]
  },
  {
   "cell_type": "markdown",
   "metadata": {},
   "source": [
    "\n",
    "---\n",
    "\n",
    "#### **Logging Errors Instead of Printing**  \n",
    "\n",
    "📌 **Instead of printing errors, use logging to store them for debugging.**  \n",
    "\n",
    "**Example: Logging Errors with `logging`**"
   ]
  },
  {
   "cell_type": "code",
   "execution_count": null,
   "metadata": {},
   "outputs": [],
   "source": [
    "import logging\n",
    "# Saves logs to `errors.log`\n",
    "logging.basicConfig(filename=\"errors.log\", level=logging.ERROR)\n",
    "\n",
    "try:\n",
    "    x = 10 / 0\n",
    "except ZeroDivisionError as e:\n",
    "    logging.error(f\"Error occurred: {e}\")"
   ]
  },
  {
   "cell_type": "markdown",
   "metadata": {},
   "source": [
    "#### **Summary of Error Handling in Python**  \n",
    "\n",
    "| **Concept** | **Description** | **Example** |\n",
    "|------------|--------------|-----------|\n",
    "| **Exception Handling** | Prevents program crashes | `try-except` |\n",
    "| **Handling Multiple Exceptions** | Catch different errors separately | `except ValueError:` |\n",
    "| **Using `else` and `finally`** | Executes additional code in certain cases | `finally: cleanup()` |\n",
    "| **Raising Custom Exceptions** | Define application-specific errors | `raise ValueError(\"Invalid Input\")` |\n",
    "| **Logging Errors** | Store errors for debugging | `logging.error(e)` |\n",
    "\n",
    "✅ **Proper error handling ensures stability, reliability, and a better user experience!**  \n",
    "\n",
    "---\n",
    "\n",
    "#### **🚀 Final Thoughts**\n",
    "🔹 **Always handle errors gracefully to prevent crashes.**  \n",
    "🔹 **Use `finally` for cleanup tasks like closing files.**  \n",
    "🔹 **Log errors instead of printing them for better debugging.**  \n",
    "🔹 **Create custom exceptions when built-in ones don’t cover your case.**  \n",
    "\n"
   ]
  },
  {
   "cell_type": "code",
   "execution_count": null,
   "metadata": {},
   "outputs": [],
   "source": []
  },
  {
   "cell_type": "markdown",
   "metadata": {},
   "source": []
  }
 ],
 "metadata": {
  "kernelspec": {
   "display_name": "my_venv",
   "language": "python",
   "name": "python3"
  },
  "language_info": {
   "codemirror_mode": {
    "name": "ipython",
    "version": 3
   },
   "file_extension": ".py",
   "mimetype": "text/x-python",
   "name": "python",
   "nbconvert_exporter": "python",
   "pygments_lexer": "ipython3",
   "version": "3.13.1"
  }
 },
 "nbformat": 4,
 "nbformat_minor": 2
}
