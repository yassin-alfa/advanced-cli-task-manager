{
 "cells": [
  {
   "cell_type": "markdown",
   "metadata": {},
   "source": [
    "## **Testing CLI Tools in Python**  \n",
    "\n",
    "Testing is crucial to ensure that CLI tools function correctly under different conditions. This section covers:  \n",
    "✅ **Why Test CLI Tools?**  \n",
    "✅ **Using `unittest` for CLI Testing**  \n",
    "✅ **Testing CLI Commands with `subprocess`**  \n",
    "✅ **Mocking User Input & Environment Variables**  \n",
    "✅ **Using `pytest` for CLI Testing**  \n",
    "\n",
    "---\n",
    "\n",
    "### **Why Test CLI Tools?**  \n",
    "\n",
    "✅ **Ensures CLI commands work as expected**  \n",
    "✅ **Prevents bugs in argument handling**  \n",
    "✅ **Verifies correct error handling for invalid inputs**  \n",
    "✅ **Helps maintain CLI functionality when modifying code**  \n",
    "\n",
    "**Common CLI Testing Scenarios**\n",
    "| **Test Case** | **Expected Result** |\n",
    "|--------------|------------------|\n",
    "| Running CLI with valid arguments | Returns expected output |\n",
    "| Running CLI with missing arguments | Shows usage instructions |\n",
    "| Running CLI with invalid inputs | Displays error message |\n",
    "| Checking CLI response to environment variables | Uses correct settings |\n",
    "\n",
    "---\n",
    "\n",
    "### **1- Testing CLI Tools with `unittest`**  \n",
    "\n",
    "**Unit testing ensures individual components of the CLI work correctly.**  \n",
    "\n",
    "**Example: Unit Test for a CLI Function**:\n",
    "\n",
    "- Ensures `greet()` returns the correct message.  \n",
    "- Catches errors if the function behavior changes.  "
   ]
  },
  {
   "cell_type": "code",
   "execution_count": null,
   "metadata": {},
   "outputs": [],
   "source": [
    "\"\"\"\n",
    "import unittest\n",
    "from cli_tool import greet  # Import the function to test\n",
    "\n",
    "class TestCLI(unittest.TestCase):\n",
    "    def test_greet(self):\n",
    "        self.assertEqual(greet(\"Alice\"), \"Hello, Alice!\")\n",
    "\n",
    "if __name__ == \"__main__\":\n",
    "    unittest.main()\n",
    "\n",
    "\"\"\"\n",
    "! python3 -m unittest test_cli.py    "
   ]
  },
  {
   "cell_type": "markdown",
   "metadata": {},
   "source": [
    "\n",
    "---\n",
    "\n",
    "### **2- Testing CLI Execution with `subprocess`**  \n",
    "\n",
    "**Why Use `subprocess`?**  \n",
    "- Simulates running the CLI **as a real user**.  \n",
    "- Captures CLI output for verification.  \n",
    "\n",
    "**Example: Running a CLI Tool with `subprocess.run()`**"
   ]
  },
  {
   "cell_type": "code",
   "execution_count": 2,
   "metadata": {},
   "outputs": [],
   "source": [
    "import subprocess\n",
    "\n",
    "def test_cli():\n",
    "    result = subprocess.run([\"python\", \"cli_tool.py\", \"Alice\"], capture_output=True, text=True)\n",
    "    assert result.stdout.strip() == \"Hello, Alice!\"  # Compare output\n",
    "\n",
    "test_cli()"
   ]
  },
  {
   "cell_type": "markdown",
   "metadata": {},
   "source": [
    "- Ensures the CLI executes successfully.  \n",
    "- Verifies correct **stdout** output.  \n",
    "\n",
    "✅ **Using `capture_output=True`** captures command output.  \n",
    "\n",
    "---\n",
    "\n",
    "### **3- Testing CLI Errors & Edge Cases**  \n",
    "\n",
    "**Example: Testing CLI with Invalid Arguments**"
   ]
  },
  {
   "cell_type": "code",
   "execution_count": 3,
   "metadata": {},
   "outputs": [],
   "source": [
    "def test_invalid_argument():\n",
    "    result = subprocess.run([\"python\", \"cli_tool.py\"], capture_output=True, text=True)\n",
    "    assert \"usage\" in result.stderr.lower()  # Check if usage help appears\n",
    "\n",
    "test_invalid_argument()"
   ]
  },
  {
   "cell_type": "markdown",
   "metadata": {},
   "source": [
    "**Example: Handling Missing Arguments**"
   ]
  },
  {
   "cell_type": "code",
   "execution_count": 5,
   "metadata": {},
   "outputs": [],
   "source": [
    "def test_missing_argument():\n",
    "    result = subprocess.run([\"python\", \"cli_tool.py\"], capture_output=True, text=True)\n",
    "    assert \"error\" in result.stderr.lower()\n",
    "\n",
    "test_missing_argument()"
   ]
  },
  {
   "cell_type": "markdown",
   "metadata": {},
   "source": [
    "\n",
    "\n",
    "---\n",
    "\n",
    "### **4- Mocking User Input & Environment Variables**  \n",
    "\n",
    "✅ **Why Use Mocking?**  \n",
    "- Simulates user input (`input()` calls).  \n",
    "- Mocks environment variables (`os.getenv()`).  \n",
    "\n",
    "**Use Mocking When:**\n",
    "- CLI **requires user input** (`input()`).\n",
    "- CLI depends on **environment variables** (`os.getenv()`).\n",
    "\n",
    "**Example: Mocking `input()` in CLI Testing**"
   ]
  },
  {
   "cell_type": "code",
   "execution_count": null,
   "metadata": {},
   "outputs": [],
   "source": [
    "\"\"\"\n",
    "import unittest\n",
    "from unittest.mock import patch\n",
    "from cli_tool import greet_interactive  # Function that uses input()\n",
    "\n",
    "class TestCLIInteractive(unittest.TestCase):\n",
    "    @patch(\"builtins.input\", return_value=\"Alice\")  # Simulate user input\n",
    "    def test_greet_input(self, mock_input):\n",
    "        self.assertEqual(greet_interactive(), \"Hello, Alice!\")\n",
    "\n",
    "unittest.main()\n",
    "\"\"\"\n",
    "\n",
    "! python3 -m unittest mocking_test.py"
   ]
  },
  {
   "cell_type": "markdown",
   "metadata": {},
   "source": [
    "**Example: Mocking Environment Variables**"
   ]
  },
  {
   "cell_type": "code",
   "execution_count": null,
   "metadata": {},
   "outputs": [],
   "source": [
    "import os\n",
    "from unittest.mock import patch\n",
    "\n",
    "@patch.dict(os.environ, {\"API_KEY\": \"test123\"})  # Set environment variable\n",
    "def test_env_variable():\n",
    "    assert os.getenv(\"API_KEY\") == \"test123\"\n",
    "\n",
    "test_env_variable()"
   ]
  },
  {
   "cell_type": "markdown",
   "metadata": {},
   "source": [
    "\n",
    "\n",
    "---\n",
    "\n",
    "### **5-  Using `pytest` for CLI Testing**  \n",
    "\n",
    "**Why `pytest`?**  \n",
    "- Requires **less boilerplate code** than `unittest`.  \n",
    "- Supports **parameterized tests** to test multiple cases at once.  \n",
    "\n",
    "**Example: Testing CLI with `pytest`**\n",
    "\n",
    "**`pytest.mark.parametrize()`** allows testing multiple inputs efficiently. "
   ]
  },
  {
   "cell_type": "code",
   "execution_count": null,
   "metadata": {},
   "outputs": [],
   "source": [
    "\"\"\"\n",
    "import subprocess\n",
    "import pytest\n",
    "\n",
    "@pytest.mark.parametrize(\"name, expected\", [\n",
    "    (\"Alice\", \"Hello, Alice!\"),\n",
    "    (\"Bob\", \"Hello, Bob!\")\n",
    "])\n",
    "def test_greet_cli(name, expected):\n",
    "    result = subprocess.run([\"python\", \"cli_tool.py\", name], capture_output=True, text=True)\n",
    "    assert result.stdout.strip() == expected\n",
    "\"\"\"\n",
    "!pytest test_cli.py -v    "
   ]
  },
  {
   "cell_type": "markdown",
   "metadata": {},
   "source": [
    " \n",
    " \n",
    "\n",
    "---\n",
    "\n",
    "### **6- Best Practices for Testing CLI Tools**  \n",
    "\n",
    "**1. Cover Edge Cases & Errors**  \n",
    "- Test with **missing arguments**.  \n",
    "- Validate **unexpected inputs**.  \n",
    "- Ensure **help messages** display correctly.  \n",
    "\n",
    "**2. Use `subprocess.run()` to Simulate User Execution** \n",
    "```python\n",
    "subprocess.run([\"python\", \"cli_tool.py\", \"--help\"])\n",
    "```\n",
    "\n",
    "✅ **3. Mock Inputs & Environment Variables**  \n",
    "```python\n",
    "@patch(\"builtins.input\", return_value=\"Alice\")\n",
    "```\n",
    "\n",
    "✅ **4. Use `pytest` for Efficient Testing**  \n",
    "- Supports **parameterized tests**.  \n",
    "- Simplifies **test writing & debugging**.  \n",
    "\n",
    "✅ **5. Automate CLI Tests in CI/CD Pipelines**  \n",
    "- Run CLI tests automatically in **GitHub Actions**.  \n",
    "\n",
    "📌 **Example: Automating CLI Tests in GitHub Actions**\n",
    "```yaml\n",
    "name: CLI Tool Tests\n",
    "\n",
    "on: [push, pull_request]\n",
    "\n",
    "jobs:\n",
    "  test:\n",
    "    runs-on: ubuntu-latest\n",
    "    steps:\n",
    "      - uses: actions/checkout@v2\n",
    "      - name: Set up Python\n",
    "        uses: actions/setup-python@v3\n",
    "        with:\n",
    "          python-version: \"3.10\"\n",
    "      - name: Install dependencies\n",
    "        run: pip install -r requirements.txt\n",
    "      - name: Run CLI Tests\n",
    "        run: pytest test_cli.py\n",
    "```\n",
    "✅ **Automated testing ensures CLI tools remain functional after updates.**  \n",
    "\n",
    "---\n",
    "\n",
    "# **📌 Summary of CLI Tool Testing**\n",
    "| **Test Type** | **Purpose** | **Example** |\n",
    "|--------------|------------|-----------|\n",
    "| **Unit Testing (`unittest`)** | Verify function outputs | `assertEqual(greet(\"Alice\"), \"Hello, Alice!\")` |\n",
    "| **CLI Execution (`subprocess`)** | Simulate running commands | `subprocess.run([\"python\", \"cli.py\"])` |\n",
    "| **Error Handling** | Ensure CLI handles invalid inputs | `parser.error(\"Invalid input\")` |\n",
    "| **Mocking Inputs** | Simulate user input & environment | `@patch(\"builtins.input\", return_value=\"Alice\")` |\n",
    "| **Using `pytest`** | Simplifies CLI test cases | `pytest.mark.parametrize(\"input, output\")` |\n",
    "| **CI/CD Automation** | Run CLI tests automatically | `GitHub Actions` |\n",
    "\n"
   ]
  },
  {
   "cell_type": "markdown",
   "metadata": {},
   "source": []
  }
 ],
 "metadata": {
  "kernelspec": {
   "display_name": "my_venv",
   "language": "python",
   "name": "python3"
  },
  "language_info": {
   "codemirror_mode": {
    "name": "ipython",
    "version": 3
   },
   "file_extension": ".py",
   "mimetype": "text/x-python",
   "name": "python",
   "nbconvert_exporter": "python",
   "pygments_lexer": "ipython3",
   "version": "3.13.1"
  }
 },
 "nbformat": 4,
 "nbformat_minor": 2
}
