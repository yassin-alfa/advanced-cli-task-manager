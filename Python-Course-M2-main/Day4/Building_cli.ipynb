{
 "cells": [
  {
   "cell_type": "markdown",
   "metadata": {},
   "source": [
    "## **I- Writing a CLI Tool in Python Using `argparse`**\n",
    "\n",
    "\n",
    "### **1- What is a CLI Tool?**\n",
    "**Definition**: A CLI tool allows users to interact with a program via the command line instead of a GUI.  \n",
    "**Why use CLI tools?**  \n",
    "- Automate tasks efficiently.  \n",
    "- Provide quick access to functionalities.  \n",
    "- Useful in DevOps, scripting, and system administration.  \n",
    "\n",
    "**Examples of CLI Tools in the Real World**\n",
    "| **Tool** | **Description** |\n",
    "|----------|----------------|\n",
    "| `git` | Version control system |\n",
    "| `ls` | List files in a directory |\n",
    "| `docker` | Manage containers |\n",
    "| `curl` | Transfer data from URLs |\n",
    "\n",
    "---\n",
    "\n",
    "### **2- Introduction to `argparse`**  \n",
    "\n",
    "Python’s **`argparse`** module simplifies the process of handling **command-line arguments**.  \n",
    "**Why `argparse`?**  \n",
    "- Handles required and optional arguments easily.  \n",
    "- Provides built-in help and usage instructions.  \n",
    "- Supports flags and subcommands.\n",
    "\n",
    "**Example: Running a Python Script Without `argparse`**\n",
    "```bash\n",
    "python script.py Alice\n",
    "```\n",
    "🔹 **Without `argparse`, we must manually access arguments:**\n",
    "```python\n",
    "import sys\n",
    "name = sys.argv[1]  # Get first argument\n",
    "print(f\"Hello, {name}!\")\n",
    "```\n",
    "**With `argparse`, we get more flexibility and better usability.**\n",
    "\n",
    "---\n",
    "\n",
    "### **3- Basic `argparse` Example – Accepting a Single Argument**  \n",
    "\n",
    "**Creating a Simple CLI Tool**   : `copy the following code in cli_tool.py`"
   ]
  },
  {
   "cell_type": "code",
   "execution_count": null,
   "metadata": {},
   "outputs": [],
   "source": [
    "# To be copied to cli_tools\n",
    "\"\"\"\n",
    "import argparse\n",
    "\n",
    "def greet(name):\n",
    "    print(f\"Hello, {name}!\")\n",
    "\n",
    "if __name__ == \"__main__\":\n",
    "    parser = argparse.ArgumentParser(description=\"A simple CLI greeting tool\")\n",
    "    parser.add_argument(\"name\", help=\"Your name\")  # Required argument\n",
    "    args = parser.parse_args()  # Parse the arguments\n",
    "    greet(args.name)\n",
    "\"\"\"    "
   ]
  },
  {
   "cell_type": "markdown",
   "metadata": {},
   "source": [
    "**Run It**"
   ]
  },
  {
   "cell_type": "code",
   "execution_count": null,
   "metadata": {
    "vscode": {
     "languageId": "shellscript"
    }
   },
   "outputs": [],
   "source": [
    "!python3 cli_tool.py Alice"
   ]
  },
  {
   "cell_type": "markdown",
   "metadata": {},
   "source": [
    "**Key Takeaways**\n",
    "- `ArgumentParser(description=\"CLI tool\")` initializes `argparse`.\n",
    "- `add_argument(\"name\")` specifies a required argument.\n",
    "- `args = parser.parse_args()` parses command-line inputs.\n",
    "\n",
    "---\n",
    "### **4- Adding Optional Arguments (`--flag`)**  \n",
    "\n",
    "**Making Arguments Optional**  \n",
    "```python\n",
    "parser.add_argument(\"--shout\", action=\"store_true\", help=\"Shout the greeting\")\n",
    "```\n",
    "- `--shout` is a **boolean flag** (`True` if provided, `False` if not).  \n",
    "- Used `action=\"store_true\"` to indicate a flag.  \n",
    "\n",
    "\n",
    "**Modified Code Example**"
   ]
  },
  {
   "cell_type": "code",
   "execution_count": null,
   "metadata": {},
   "outputs": [],
   "source": [
    "\"\"\"\n",
    "import argparse\n",
    "\n",
    "def greet(name, shout):\n",
    "    message = f\"Hello, {name}!\"\n",
    "    if shout:\n",
    "        message = message.upper()\n",
    "    print(message)\n",
    "\n",
    "if __name__ == \"__main__\":\n",
    "    parser = argparse.ArgumentParser(description=\"A simple CLI greeting tool\")\n",
    "    parser.add_argument(\"name\", help=\"Your name\")\n",
    "    parser.add_argument(\"--shout\", action=\"store_true\", help=\"Convert greeting to uppercase\")\n",
    "    args = parser.parse_args()\n",
    "    greet(args.name, args.shout)\n",
    "\"\"\"    "
   ]
  },
  {
   "cell_type": "markdown",
   "metadata": {},
   "source": [
    "**Run It**"
   ]
  },
  {
   "cell_type": "code",
   "execution_count": null,
   "metadata": {
    "vscode": {
     "languageId": "shellscript"
    }
   },
   "outputs": [],
   "source": [
    "!python3 cli_tool.py Alice --shout"
   ]
  },
  {
   "cell_type": "markdown",
   "metadata": {},
   "source": [
    "\n",
    "\n",
    "### **Handling Multiple Arguments**\n",
    "**Example: Accepting Multiple Arguments**\n",
    "```python\n",
    "parser.add_argument(\"--repeat\", type=int, default=1, help=\"Number of times to repeat the greeting\")\n",
    "```\n",
    "\n",
    "- `--repeat` is an **optional argument with a default value (`1`)**.\n",
    "- `type=int` ensures that the value must be an integer.\n",
    "\n",
    "\n",
    "**Modified CLI Tool**"
   ]
  },
  {
   "cell_type": "code",
   "execution_count": null,
   "metadata": {},
   "outputs": [],
   "source": [
    "\"\"\"\n",
    "import argparse\n",
    "\n",
    "def greet(name, repeat):\n",
    "    for _ in range(repeat):\n",
    "        print(f\"Hello, {name}!\")\n",
    "\n",
    "if __name__ == \"__main__\":\n",
    "    parser = argparse.ArgumentParser(description=\"A simple CLI greeting tool\")\n",
    "    parser.add_argument(\"name\", help=\"Your name\")\n",
    "    parser.add_argument(\"--repeat\", type=int, default=1, help=\"Number of times to repeat the greeting\")\n",
    "    args = parser.parse_args()\n",
    "    greet(args.name, args.repeat)\n",
    "\"\"\"    "
   ]
  },
  {
   "cell_type": "code",
   "execution_count": null,
   "metadata": {
    "vscode": {
     "languageId": "shellscript"
    }
   },
   "outputs": [],
   "source": [
    "!python3 cli_tool.py Alice --repeat 3"
   ]
  },
  {
   "cell_type": "markdown",
   "metadata": {},
   "source": [
    "\n",
    "----\n",
    "\n",
    "### **5- Using Subcommands (`add_subparsers`)**  \n",
    "\n",
    "**Why Use Subcommands?**\n",
    "- Some CLI tools need multiple actions (e.g., `git commit`, `git push`).\n",
    "- We can define different functions for different subcommands.\n",
    "\n",
    "**Example: Implementing Subcommands (`greet` and `goodbye`)**\n",
    "\n",
    "- `add_subparsers()` allows defining **multiple CLI commands**.\n",
    "- `dest=\"command\"` captures which subcommand was used."
   ]
  },
  {
   "cell_type": "code",
   "execution_count": null,
   "metadata": {},
   "outputs": [],
   "source": [
    "import argparse\n",
    "\n",
    "def greet(name):\n",
    "    print(f\"Hello, {name}!\")\n",
    "\n",
    "def goodbye(name):\n",
    "    print(f\"Goodbye, {name}!\")\n",
    "\n",
    "if __name__ == \"__main__\":\n",
    "    parser = argparse.ArgumentParser(description=\"A CLI tool with subcommands\")\n",
    "    subparsers = parser.add_subparsers(dest=\"command\")  # Add subcommands\n",
    "\n",
    "    # Subcommand: greet\n",
    "    greet_parser = subparsers.add_parser(\"greet\", help=\"Greet someone\")\n",
    "    greet_parser.add_argument(\"name\", help=\"Person's name\")\n",
    "\n",
    "    # Subcommand: goodbye\n",
    "    goodbye_parser = subparsers.add_parser(\"goodbye\", help=\"Say goodbye to someone\")\n",
    "    goodbye_parser.add_argument(\"name\", help=\"Person's name\")\n",
    "\n",
    "    args = parser.parse_args()\n",
    "\n",
    "    if args.command == \"greet\":\n",
    "        greet(args.name)\n",
    "    elif args.command == \"goodbye\":\n",
    "        goodbye(args.name)"
   ]
  },
  {
   "cell_type": "markdown",
   "metadata": {},
   "source": [
    "**Run It**"
   ]
  },
  {
   "cell_type": "code",
   "execution_count": null,
   "metadata": {
    "vscode": {
     "languageId": "shellscript"
    }
   },
   "outputs": [],
   "source": [
    "!python3 cli_tool.py greet Alice"
   ]
  },
  {
   "cell_type": "code",
   "execution_count": null,
   "metadata": {
    "vscode": {
     "languageId": "shellscript"
    }
   },
   "outputs": [],
   "source": [
    "!python3 cli_tool.py goodbye Alice"
   ]
  },
  {
   "cell_type": "markdown",
   "metadata": {},
   "source": [
    "\n",
    "---\n",
    "\n",
    "### **6- Improving CLI User Experience**\n",
    "\n",
    "\n",
    "**Providing Help and Usage Instructions**\n",
    "\n",
    "- `argparse` automatically generates help messages.\n",
    "- Use `help=\"Description\"` to improve documentation."
   ]
  },
  {
   "cell_type": "code",
   "execution_count": null,
   "metadata": {
    "vscode": {
     "languageId": "shellscript"
    }
   },
   "outputs": [],
   "source": [
    "!python3 cli_tool.py --help"
   ]
  },
  {
   "cell_type": "markdown",
   "metadata": {},
   "source": [
    "\n",
    "\n",
    "### **Summary of `argparse` CLI Development**\n",
    "| **Feature** | **Description** | **Example** |\n",
    "|------------|--------------|-----------|\n",
    "| **Positional Arguments** | Required input | `python cli.py Alice` |\n",
    "| **Optional Arguments (`--flag`)** | Modify behavior | `--shout`, `--repeat` |\n",
    "| **Subcommands** | Different functionalities | `greet`, `goodbye` |\n",
    "| **Help Message** | Automatic usage documentation | `--help` |\n",
    "\n",
    "---"
   ]
  },
  {
   "cell_type": "markdown",
   "metadata": {},
   "source": [
    "## **II- Advanced Topics in CLI Tool Development with `argparse`**  \n",
    "\n",
    "This section covers **advanced techniques** to improve Python CLI tools, including:\n",
    "✅ **Environment variables**  \n",
    "✅ **Interactive prompts**  \n",
    "✅ **Custom error handling**  \n",
    "✅ **Reading arguments from a configuration file**  \n",
    "✅ **Parallel processing in CLI tools**  \n",
    "✅ **Packaging CLI tools as executables**  \n",
    "\n",
    "---\n",
    "\n",
    "\n",
    "### **7- Using Environment Variables in CLI Tools**  \n",
    "\n",
    "**Why Use Environment Variables?**  \n",
    "- Securely store API keys, credentials, or default settings.  \n",
    "- Avoid hardcoding sensitive information.  \n",
    "- Allows customization without modifying the script.  \n",
    "\n",
    "**Example: Reading an API Key from an Environment Variable**"
   ]
  },
  {
   "cell_type": "code",
   "execution_count": null,
   "metadata": {},
   "outputs": [],
   "source": [
    "# copy to cli_advanced.py\n",
    "\"\"\"\n",
    "import os\n",
    "\n",
    "def get_api_key():\n",
    "    return os.getenv(\"API_KEY\", \"No API Key Found\")\n",
    "\n",
    "print(get_api_key())  # Run after setting API_KEY\n",
    "\"\"\"    "
   ]
  },
  {
   "cell_type": "code",
   "execution_count": null,
   "metadata": {
    "vscode": {
     "languageId": "shellscript"
    }
   },
   "outputs": [],
   "source": [
    "# run this in the terminal\n",
    "export API_KEY=\"12345abcde\"\n",
    "python3 cli_advanced.py"
   ]
  },
  {
   "cell_type": "markdown",
   "metadata": {},
   "source": [
    "\n",
    "### **8- Interactive Prompts in CLI Tools**  \n",
    "\n",
    " \n",
    "- Guide users to input required data.  \n",
    "- Provide a better user experience.  \n",
    "\n",
    "📌 **Example: Using `input()` for Interactive Input**"
   ]
  },
  {
   "cell_type": "code",
   "execution_count": null,
   "metadata": {
    "vscode": {
     "languageId": "shellscript"
    }
   },
   "outputs": [],
   "source": [
    "name = input(\"Enter your name: \")\n",
    "print(f\"Hello, {name}!\")"
   ]
  },
  {
   "cell_type": "markdown",
   "metadata": {},
   "source": [
    "**Example: Using `getpass` for Secure Password Entry**"
   ]
  },
  {
   "cell_type": "code",
   "execution_count": null,
   "metadata": {
    "vscode": {
     "languageId": "shellscript"
    }
   },
   "outputs": [],
   "source": [
    "import getpass\n",
    "\n",
    "password = getpass.getpass(\"Enter your password: \")\n",
    "print(\"Password received (not displayed for security).\")\n",
    "print(f\"Password: {password}\")"
   ]
  },
  {
   "cell_type": "markdown",
   "metadata": {},
   "source": [
    "\n",
    "**Use interactive prompts for user input when arguments aren’t passed.**  \n",
    "\n",
    "---\n",
    "\n",
    "### **9- Handling Errors and Invalid Arguments Gracefully**  \n",
    "\n",
    "**Why Handle Errors?**  \n",
    "- Prevents **crashes** when incorrect arguments are passed.  \n",
    "- Provides **helpful feedback** to users.  \n",
    "\n",
    "**Example: Custom Error Handling in `argparse`**"
   ]
  },
  {
   "cell_type": "code",
   "execution_count": null,
   "metadata": {},
   "outputs": [],
   "source": [
    "# copy to cli_advanced.py\n",
    "\"\"\"\n",
    "import argparse\n",
    "\n",
    "parser = argparse.ArgumentParser(description=\"A CLI tool with error handling\")\n",
    "parser.add_argument(\"--age\", type=int, help=\"Enter your age\")\n",
    "\n",
    "args = parser.parse_args()\n",
    "\n",
    "if args.age is not None and args.age < 0:\n",
    "    parser.error(\"Age cannot be negative!\")\n",
    "\n",
    "print(f\"Your age is: {args.age}\")\n",
    "\"\"\""
   ]
  },
  {
   "cell_type": "code",
   "execution_count": null,
   "metadata": {
    "vscode": {
     "languageId": "shellscript"
    }
   },
   "outputs": [],
   "source": [
    "!python3 cli_advanced.py --age -1"
   ]
  },
  {
   "cell_type": "markdown",
   "metadata": {},
   "source": [
    "**Handling Incorrect Commands with `subparsers`**\n",
    "\n",
    "**Use `parser.error()` to handle invalid inputs before execution.**  "
   ]
  },
  {
   "cell_type": "code",
   "execution_count": null,
   "metadata": {},
   "outputs": [],
   "source": [
    "subparsers = parser.add_subparsers(dest=\"command\")\n",
    "\n",
    "if args.command is None:\n",
    "    parser.error(\"You must specify a subcommand.\")"
   ]
  },
  {
   "cell_type": "markdown",
   "metadata": {},
   "source": [
    "\n",
    "---\n",
    "\n",
    "### **10- Reading Arguments from a Configuration File**  \n",
    "\n",
    "**Why Use a Configuration File?**  \n",
    "- Allows saving default CLI settings.  \n",
    "- Enables reusability for multiple executions.  \n",
    "\n",
    "**Example: Using a JSON Configuration File**"
   ]
  },
  {
   "cell_type": "code",
   "execution_count": null,
   "metadata": {},
   "outputs": [],
   "source": [
    "import json\n",
    "\n",
    "def load_config(file_path):\n",
    "    with open(file_path, \"r\") as file:\n",
    "        return json.load(file)\n",
    "\n",
    "config = load_config(\"config.json\")\n",
    "print(f\"API Key: {config['api_key']}\")"
   ]
  },
  {
   "cell_type": "markdown",
   "metadata": {},
   "source": [
    " **Example `config.json`**\n",
    "```json\n",
    "{\n",
    "    \"api_key\": \"12345abcde\",\n",
    "    \"default_name\": \"Guest\"\n",
    "}\n",
    "```\n",
    "**Modify the CLI tool to allow loading arguments from a config file.**  \n",
    "\n",
    "---\n",
    "\n",
    "### **11- Running CLI Commands in Parallel (Multi-threading & Multi-processing)**  \n",
    "\n",
    "**Why Use Parallel Execution?**  \n",
    "- Speeds up **batch processing** of multiple files.  \n",
    "- Ideal for **network requests, API calls, or file transformations**.  \n",
    "\n",
    "📌 **Example: Running Tasks in Parallel with `ThreadPoolExecutor`**"
   ]
  },
  {
   "cell_type": "code",
   "execution_count": null,
   "metadata": {},
   "outputs": [],
   "source": [
    "\"\"\"\n",
    "import concurrent.futures\n",
    "\n",
    "def process_file(file):\n",
    "    print(f\"Processing {file}\")\n",
    "\n",
    "files = [\"file1.txt\", \"file2.txt\", \"file3.txt\", \"file4.txt\", \"file5.txt\", \"file6.txt\"]\n",
    "\n",
    "with concurrent.futures.ThreadPoolExecutor() as executor:\n",
    "    executor.map(process_file, files)\n",
    "\"\"\"\n",
    "!python3 multithreading.py    "
   ]
  },
  {
   "cell_type": "markdown",
   "metadata": {},
   "source": [
    "\n",
    "---\n",
    "\n",
    "## **12- Packaging a CLI Tool as an Executable (Standalone Binary)**  \n",
    "\n",
    "✅ **Why Package as an Executable?**  \n",
    "- Users don’t need to install Python.  \n",
    "- Allows distribution as a self-contained binary.  \n",
    "\n",
    "**Step 1: Install `pyinstaller`**\n",
    "```bash\n",
    "pip install pyinstaller\n",
    "```\n",
    "**Step 2: Generate an Executable**\n",
    "```bash\n",
    "pyinstaller --onefile cli_tool.py\n",
    "```\n",
    "✅ **Executable is Created in `dist/cli_tool`**\n",
    "```bash\n",
    "./dist/cli_tool --help\n",
    "```\n",
    "**Now the CLI tool runs without needing Python installed!**  "
   ]
  },
  {
   "cell_type": "markdown",
   "metadata": {},
   "source": [
    "\n",
    "\n",
    "---\n",
    "\n",
    "### **Best Practices for CLI Tool Development**  \n",
    "\n",
    "**1. Provide Clear Help Messages**\n",
    "```python\n",
    "parser = argparse.ArgumentParser(description=\"CLI tool with best practices\")\n",
    "```\n",
    "**2. Use Logging Instead of Print Statements**\n",
    "```python\n",
    "import logging\n",
    "logging.basicConfig(level=logging.INFO)\n",
    "logging.info(\"Task completed successfully\")\n",
    "```\n",
    "**3. Support Configuration Files for Default Settings**  \n",
    "**4. Validate Inputs to Avoid Crashes**  \n",
    "**5. Add Tests for CLI Arguments**  \n",
    "\n",
    "---\n",
    "\n",
    "### **📌 Summary of Advanced CLI Tool Development**\n",
    "| **Feature** | **Purpose** | **Example** |\n",
    "|------------|------------|-----------|\n",
    "| **Environment Variables** | Securely store secrets | `os.getenv(\"API_KEY\")` |\n",
    "| **Interactive Prompts** | Improve user experience | `input()`, `getpass()` |\n",
    "| **Error Handling** | Prevent crashes | `parser.error(\"Invalid input\")` |\n",
    "| **Configuration Files** | Store settings persistently | `json.load()` |\n",
    "| **Parallel Processing** | Speed up execution | `ThreadPoolExecutor()` |\n",
    "| **Executable Packaging** | Distribute without Python | `pyinstaller --onefile` |\n",
    "\n"
   ]
  },
  {
   "cell_type": "markdown",
   "metadata": {},
   "source": []
  }
 ],
 "metadata": {
  "kernelspec": {
   "display_name": "my_venv",
   "language": "python",
   "name": "python3"
  },
  "language_info": {
   "codemirror_mode": {
    "name": "ipython",
    "version": 3
   },
   "file_extension": ".py",
   "mimetype": "text/x-python",
   "name": "python",
   "nbconvert_exporter": "python",
   "pygments_lexer": "ipython3",
   "version": "3.13.1"
  }
 },
 "nbformat": 4,
 "nbformat_minor": 2
}
